{
 "cells": [
  {
   "cell_type": "code",
   "execution_count": 5,
   "metadata": {},
   "outputs": [
    {
     "name": "stdout",
     "output_type": "stream",
     "text": [
      "Collecting notebook\n",
      "  Downloading notebook-7.2.2-py3-none-any.whl.metadata (10 kB)\n",
      "Requirement already satisfied: jupyter-server<3,>=2.4.0 in c:\\users\\johan\\appdata\\local\\programs\\python\\python313\\lib\\site-packages (from notebook) (2.14.2)\n",
      "Requirement already satisfied: jupyterlab-server<3,>=2.27.1 in c:\\users\\johan\\appdata\\local\\programs\\python\\python313\\lib\\site-packages (from notebook) (2.27.3)\n",
      "Collecting jupyterlab<4.3,>=4.2.0 (from notebook)\n",
      "  Downloading jupyterlab-4.2.6-py3-none-any.whl.metadata (16 kB)\n",
      "Requirement already satisfied: notebook-shim<0.3,>=0.2 in c:\\users\\johan\\appdata\\local\\programs\\python\\python313\\lib\\site-packages (from notebook) (0.2.4)\n",
      "Requirement already satisfied: tornado>=6.2.0 in c:\\users\\johan\\appdata\\local\\programs\\python\\python313\\lib\\site-packages (from notebook) (6.4.1)\n",
      "Requirement already satisfied: anyio>=3.1.0 in c:\\users\\johan\\appdata\\local\\programs\\python\\python313\\lib\\site-packages (from jupyter-server<3,>=2.4.0->notebook) (4.6.2.post1)\n",
      "Requirement already satisfied: argon2-cffi>=21.1 in c:\\users\\johan\\appdata\\local\\programs\\python\\python313\\lib\\site-packages (from jupyter-server<3,>=2.4.0->notebook) (23.1.0)\n",
      "Requirement already satisfied: jinja2>=3.0.3 in c:\\users\\johan\\appdata\\local\\programs\\python\\python313\\lib\\site-packages (from jupyter-server<3,>=2.4.0->notebook) (3.1.4)\n",
      "Requirement already satisfied: jupyter-client>=7.4.4 in c:\\users\\johan\\appdata\\local\\programs\\python\\python313\\lib\\site-packages (from jupyter-server<3,>=2.4.0->notebook) (8.6.3)\n",
      "Requirement already satisfied: jupyter-core!=5.0.*,>=4.12 in c:\\users\\johan\\appdata\\local\\programs\\python\\python313\\lib\\site-packages (from jupyter-server<3,>=2.4.0->notebook) (5.7.2)\n",
      "Requirement already satisfied: jupyter-events>=0.9.0 in c:\\users\\johan\\appdata\\local\\programs\\python\\python313\\lib\\site-packages (from jupyter-server<3,>=2.4.0->notebook) (0.10.0)\n",
      "Requirement already satisfied: jupyter-server-terminals>=0.4.4 in c:\\users\\johan\\appdata\\local\\programs\\python\\python313\\lib\\site-packages (from jupyter-server<3,>=2.4.0->notebook) (0.5.3)\n",
      "Requirement already satisfied: nbconvert>=6.4.4 in c:\\users\\johan\\appdata\\local\\programs\\python\\python313\\lib\\site-packages (from jupyter-server<3,>=2.4.0->notebook) (7.16.4)\n",
      "Requirement already satisfied: nbformat>=5.3.0 in c:\\users\\johan\\appdata\\local\\programs\\python\\python313\\lib\\site-packages (from jupyter-server<3,>=2.4.0->notebook) (5.10.4)\n",
      "Requirement already satisfied: overrides>=5.0 in c:\\users\\johan\\appdata\\local\\programs\\python\\python313\\lib\\site-packages (from jupyter-server<3,>=2.4.0->notebook) (7.7.0)\n",
      "Requirement already satisfied: packaging>=22.0 in c:\\users\\johan\\appdata\\local\\programs\\python\\python313\\lib\\site-packages (from jupyter-server<3,>=2.4.0->notebook) (24.2)\n",
      "Requirement already satisfied: prometheus-client>=0.9 in c:\\users\\johan\\appdata\\local\\programs\\python\\python313\\lib\\site-packages (from jupyter-server<3,>=2.4.0->notebook) (0.21.0)\n",
      "Requirement already satisfied: pywinpty>=2.0.1 in c:\\users\\johan\\appdata\\local\\programs\\python\\python313\\lib\\site-packages (from jupyter-server<3,>=2.4.0->notebook) (2.0.14)\n",
      "Requirement already satisfied: pyzmq>=24 in c:\\users\\johan\\appdata\\local\\programs\\python\\python313\\lib\\site-packages (from jupyter-server<3,>=2.4.0->notebook) (26.2.0)\n",
      "Requirement already satisfied: send2trash>=1.8.2 in c:\\users\\johan\\appdata\\local\\programs\\python\\python313\\lib\\site-packages (from jupyter-server<3,>=2.4.0->notebook) (1.8.3)\n",
      "Requirement already satisfied: terminado>=0.8.3 in c:\\users\\johan\\appdata\\local\\programs\\python\\python313\\lib\\site-packages (from jupyter-server<3,>=2.4.0->notebook) (0.18.1)\n",
      "Requirement already satisfied: traitlets>=5.6.0 in c:\\users\\johan\\appdata\\local\\programs\\python\\python313\\lib\\site-packages (from jupyter-server<3,>=2.4.0->notebook) (5.14.3)\n",
      "Requirement already satisfied: websocket-client>=1.7 in c:\\users\\johan\\appdata\\local\\programs\\python\\python313\\lib\\site-packages (from jupyter-server<3,>=2.4.0->notebook) (1.8.0)\n",
      "Requirement already satisfied: async-lru>=1.0.0 in c:\\users\\johan\\appdata\\local\\programs\\python\\python313\\lib\\site-packages (from jupyterlab<4.3,>=4.2.0->notebook) (2.0.4)\n",
      "Requirement already satisfied: httpx>=0.25.0 in c:\\users\\johan\\appdata\\local\\programs\\python\\python313\\lib\\site-packages (from jupyterlab<4.3,>=4.2.0->notebook) (0.27.2)\n",
      "Requirement already satisfied: ipykernel>=6.5.0 in c:\\users\\johan\\appdata\\local\\programs\\python\\python313\\lib\\site-packages (from jupyterlab<4.3,>=4.2.0->notebook) (6.29.5)\n",
      "Requirement already satisfied: jupyter-lsp>=2.0.0 in c:\\users\\johan\\appdata\\local\\programs\\python\\python313\\lib\\site-packages (from jupyterlab<4.3,>=4.2.0->notebook) (2.2.5)\n",
      "Requirement already satisfied: setuptools>=40.1.0 in c:\\users\\johan\\appdata\\local\\programs\\python\\python313\\lib\\site-packages (from jupyterlab<4.3,>=4.2.0->notebook) (75.4.0)\n",
      "Requirement already satisfied: babel>=2.10 in c:\\users\\johan\\appdata\\local\\programs\\python\\python313\\lib\\site-packages (from jupyterlab-server<3,>=2.27.1->notebook) (2.16.0)\n",
      "Requirement already satisfied: json5>=0.9.0 in c:\\users\\johan\\appdata\\local\\programs\\python\\python313\\lib\\site-packages (from jupyterlab-server<3,>=2.27.1->notebook) (0.9.28)\n",
      "Requirement already satisfied: jsonschema>=4.18.0 in c:\\users\\johan\\appdata\\local\\programs\\python\\python313\\lib\\site-packages (from jupyterlab-server<3,>=2.27.1->notebook) (4.23.0)\n",
      "Requirement already satisfied: requests>=2.31 in c:\\users\\johan\\appdata\\local\\programs\\python\\python313\\lib\\site-packages (from jupyterlab-server<3,>=2.27.1->notebook) (2.32.3)\n",
      "Requirement already satisfied: idna>=2.8 in c:\\users\\johan\\appdata\\local\\programs\\python\\python313\\lib\\site-packages (from anyio>=3.1.0->jupyter-server<3,>=2.4.0->notebook) (3.10)\n",
      "Requirement already satisfied: sniffio>=1.1 in c:\\users\\johan\\appdata\\local\\programs\\python\\python313\\lib\\site-packages (from anyio>=3.1.0->jupyter-server<3,>=2.4.0->notebook) (1.3.1)\n",
      "Requirement already satisfied: argon2-cffi-bindings in c:\\users\\johan\\appdata\\local\\programs\\python\\python313\\lib\\site-packages (from argon2-cffi>=21.1->jupyter-server<3,>=2.4.0->notebook) (21.2.0)\n",
      "Requirement already satisfied: certifi in c:\\users\\johan\\appdata\\local\\programs\\python\\python313\\lib\\site-packages (from httpx>=0.25.0->jupyterlab<4.3,>=4.2.0->notebook) (2024.8.30)\n",
      "Requirement already satisfied: httpcore==1.* in c:\\users\\johan\\appdata\\local\\programs\\python\\python313\\lib\\site-packages (from httpx>=0.25.0->jupyterlab<4.3,>=4.2.0->notebook) (1.0.6)\n",
      "Requirement already satisfied: h11<0.15,>=0.13 in c:\\users\\johan\\appdata\\local\\programs\\python\\python313\\lib\\site-packages (from httpcore==1.*->httpx>=0.25.0->jupyterlab<4.3,>=4.2.0->notebook) (0.14.0)\n",
      "Requirement already satisfied: comm>=0.1.1 in c:\\users\\johan\\appdata\\local\\programs\\python\\python313\\lib\\site-packages (from ipykernel>=6.5.0->jupyterlab<4.3,>=4.2.0->notebook) (0.2.2)\n",
      "Requirement already satisfied: debugpy>=1.6.5 in c:\\users\\johan\\appdata\\local\\programs\\python\\python313\\lib\\site-packages (from ipykernel>=6.5.0->jupyterlab<4.3,>=4.2.0->notebook) (1.8.8)\n",
      "Requirement already satisfied: ipython>=7.23.1 in c:\\users\\johan\\appdata\\local\\programs\\python\\python313\\lib\\site-packages (from ipykernel>=6.5.0->jupyterlab<4.3,>=4.2.0->notebook) (8.29.0)\n",
      "Requirement already satisfied: matplotlib-inline>=0.1 in c:\\users\\johan\\appdata\\local\\programs\\python\\python313\\lib\\site-packages (from ipykernel>=6.5.0->jupyterlab<4.3,>=4.2.0->notebook) (0.1.7)\n",
      "Requirement already satisfied: nest-asyncio in c:\\users\\johan\\appdata\\local\\programs\\python\\python313\\lib\\site-packages (from ipykernel>=6.5.0->jupyterlab<4.3,>=4.2.0->notebook) (1.6.0)\n",
      "Requirement already satisfied: psutil in c:\\users\\johan\\appdata\\local\\programs\\python\\python313\\lib\\site-packages (from ipykernel>=6.5.0->jupyterlab<4.3,>=4.2.0->notebook) (6.1.0)\n",
      "Requirement already satisfied: MarkupSafe>=2.0 in c:\\users\\johan\\appdata\\local\\programs\\python\\python313\\lib\\site-packages (from jinja2>=3.0.3->jupyter-server<3,>=2.4.0->notebook) (3.0.2)\n",
      "Requirement already satisfied: attrs>=22.2.0 in c:\\users\\johan\\appdata\\local\\programs\\python\\python313\\lib\\site-packages (from jsonschema>=4.18.0->jupyterlab-server<3,>=2.27.1->notebook) (24.2.0)\n",
      "Requirement already satisfied: jsonschema-specifications>=2023.03.6 in c:\\users\\johan\\appdata\\local\\programs\\python\\python313\\lib\\site-packages (from jsonschema>=4.18.0->jupyterlab-server<3,>=2.27.1->notebook) (2024.10.1)\n",
      "Requirement already satisfied: referencing>=0.28.4 in c:\\users\\johan\\appdata\\local\\programs\\python\\python313\\lib\\site-packages (from jsonschema>=4.18.0->jupyterlab-server<3,>=2.27.1->notebook) (0.35.1)\n",
      "Requirement already satisfied: rpds-py>=0.7.1 in c:\\users\\johan\\appdata\\local\\programs\\python\\python313\\lib\\site-packages (from jsonschema>=4.18.0->jupyterlab-server<3,>=2.27.1->notebook) (0.21.0)\n",
      "Requirement already satisfied: python-dateutil>=2.8.2 in c:\\users\\johan\\appdata\\local\\programs\\python\\python313\\lib\\site-packages (from jupyter-client>=7.4.4->jupyter-server<3,>=2.4.0->notebook) (2.9.0.post0)\n",
      "Requirement already satisfied: platformdirs>=2.5 in c:\\users\\johan\\appdata\\local\\programs\\python\\python313\\lib\\site-packages (from jupyter-core!=5.0.*,>=4.12->jupyter-server<3,>=2.4.0->notebook) (4.3.6)\n",
      "Requirement already satisfied: pywin32>=300 in c:\\users\\johan\\appdata\\local\\programs\\python\\python313\\lib\\site-packages (from jupyter-core!=5.0.*,>=4.12->jupyter-server<3,>=2.4.0->notebook) (308)\n",
      "Requirement already satisfied: python-json-logger>=2.0.4 in c:\\users\\johan\\appdata\\local\\programs\\python\\python313\\lib\\site-packages (from jupyter-events>=0.9.0->jupyter-server<3,>=2.4.0->notebook) (2.0.7)\n",
      "Requirement already satisfied: pyyaml>=5.3 in c:\\users\\johan\\appdata\\local\\programs\\python\\python313\\lib\\site-packages (from jupyter-events>=0.9.0->jupyter-server<3,>=2.4.0->notebook) (6.0.2)\n",
      "Requirement already satisfied: rfc3339-validator in c:\\users\\johan\\appdata\\local\\programs\\python\\python313\\lib\\site-packages (from jupyter-events>=0.9.0->jupyter-server<3,>=2.4.0->notebook) (0.1.4)\n",
      "Requirement already satisfied: rfc3986-validator>=0.1.1 in c:\\users\\johan\\appdata\\local\\programs\\python\\python313\\lib\\site-packages (from jupyter-events>=0.9.0->jupyter-server<3,>=2.4.0->notebook) (0.1.1)\n",
      "Requirement already satisfied: beautifulsoup4 in c:\\users\\johan\\appdata\\local\\programs\\python\\python313\\lib\\site-packages (from nbconvert>=6.4.4->jupyter-server<3,>=2.4.0->notebook) (4.12.3)\n",
      "Requirement already satisfied: bleach!=5.0.0 in c:\\users\\johan\\appdata\\local\\programs\\python\\python313\\lib\\site-packages (from nbconvert>=6.4.4->jupyter-server<3,>=2.4.0->notebook) (6.2.0)\n",
      "Requirement already satisfied: defusedxml in c:\\users\\johan\\appdata\\local\\programs\\python\\python313\\lib\\site-packages (from nbconvert>=6.4.4->jupyter-server<3,>=2.4.0->notebook) (0.7.1)\n",
      "Requirement already satisfied: jupyterlab-pygments in c:\\users\\johan\\appdata\\local\\programs\\python\\python313\\lib\\site-packages (from nbconvert>=6.4.4->jupyter-server<3,>=2.4.0->notebook) (0.3.0)\n",
      "Requirement already satisfied: mistune<4,>=2.0.3 in c:\\users\\johan\\appdata\\local\\programs\\python\\python313\\lib\\site-packages (from nbconvert>=6.4.4->jupyter-server<3,>=2.4.0->notebook) (3.0.2)\n",
      "Requirement already satisfied: nbclient>=0.5.0 in c:\\users\\johan\\appdata\\local\\programs\\python\\python313\\lib\\site-packages (from nbconvert>=6.4.4->jupyter-server<3,>=2.4.0->notebook) (0.10.0)\n",
      "Requirement already satisfied: pandocfilters>=1.4.1 in c:\\users\\johan\\appdata\\local\\programs\\python\\python313\\lib\\site-packages (from nbconvert>=6.4.4->jupyter-server<3,>=2.4.0->notebook) (1.5.1)\n",
      "Requirement already satisfied: pygments>=2.4.1 in c:\\users\\johan\\appdata\\local\\programs\\python\\python313\\lib\\site-packages (from nbconvert>=6.4.4->jupyter-server<3,>=2.4.0->notebook) (2.18.0)\n",
      "Requirement already satisfied: tinycss2 in c:\\users\\johan\\appdata\\local\\programs\\python\\python313\\lib\\site-packages (from nbconvert>=6.4.4->jupyter-server<3,>=2.4.0->notebook) (1.4.0)\n",
      "Requirement already satisfied: fastjsonschema>=2.15 in c:\\users\\johan\\appdata\\local\\programs\\python\\python313\\lib\\site-packages (from nbformat>=5.3.0->jupyter-server<3,>=2.4.0->notebook) (2.20.0)\n",
      "Requirement already satisfied: charset-normalizer<4,>=2 in c:\\users\\johan\\appdata\\local\\programs\\python\\python313\\lib\\site-packages (from requests>=2.31->jupyterlab-server<3,>=2.27.1->notebook) (3.4.0)\n",
      "Requirement already satisfied: urllib3<3,>=1.21.1 in c:\\users\\johan\\appdata\\local\\programs\\python\\python313\\lib\\site-packages (from requests>=2.31->jupyterlab-server<3,>=2.27.1->notebook) (2.2.3)\n",
      "Requirement already satisfied: webencodings in c:\\users\\johan\\appdata\\local\\programs\\python\\python313\\lib\\site-packages (from bleach!=5.0.0->nbconvert>=6.4.4->jupyter-server<3,>=2.4.0->notebook) (0.5.1)\n",
      "Requirement already satisfied: decorator in c:\\users\\johan\\appdata\\local\\programs\\python\\python313\\lib\\site-packages (from ipython>=7.23.1->ipykernel>=6.5.0->jupyterlab<4.3,>=4.2.0->notebook) (5.1.1)\n",
      "Requirement already satisfied: jedi>=0.16 in c:\\users\\johan\\appdata\\local\\programs\\python\\python313\\lib\\site-packages (from ipython>=7.23.1->ipykernel>=6.5.0->jupyterlab<4.3,>=4.2.0->notebook) (0.19.2)\n",
      "Requirement already satisfied: prompt-toolkit<3.1.0,>=3.0.41 in c:\\users\\johan\\appdata\\local\\programs\\python\\python313\\lib\\site-packages (from ipython>=7.23.1->ipykernel>=6.5.0->jupyterlab<4.3,>=4.2.0->notebook) (3.0.48)\n",
      "Requirement already satisfied: stack-data in c:\\users\\johan\\appdata\\local\\programs\\python\\python313\\lib\\site-packages (from ipython>=7.23.1->ipykernel>=6.5.0->jupyterlab<4.3,>=4.2.0->notebook) (0.6.3)\n",
      "Requirement already satisfied: colorama in c:\\users\\johan\\appdata\\local\\programs\\python\\python313\\lib\\site-packages (from ipython>=7.23.1->ipykernel>=6.5.0->jupyterlab<4.3,>=4.2.0->notebook) (0.4.6)\n",
      "Requirement already satisfied: fqdn in c:\\users\\johan\\appdata\\local\\programs\\python\\python313\\lib\\site-packages (from jsonschema[format-nongpl]>=4.18.0->jupyter-events>=0.9.0->jupyter-server<3,>=2.4.0->notebook) (1.5.1)\n",
      "Requirement already satisfied: isoduration in c:\\users\\johan\\appdata\\local\\programs\\python\\python313\\lib\\site-packages (from jsonschema[format-nongpl]>=4.18.0->jupyter-events>=0.9.0->jupyter-server<3,>=2.4.0->notebook) (20.11.0)\n",
      "Requirement already satisfied: jsonpointer>1.13 in c:\\users\\johan\\appdata\\local\\programs\\python\\python313\\lib\\site-packages (from jsonschema[format-nongpl]>=4.18.0->jupyter-events>=0.9.0->jupyter-server<3,>=2.4.0->notebook) (3.0.0)\n",
      "Requirement already satisfied: uri-template in c:\\users\\johan\\appdata\\local\\programs\\python\\python313\\lib\\site-packages (from jsonschema[format-nongpl]>=4.18.0->jupyter-events>=0.9.0->jupyter-server<3,>=2.4.0->notebook) (1.3.0)\n",
      "Requirement already satisfied: webcolors>=24.6.0 in c:\\users\\johan\\appdata\\local\\programs\\python\\python313\\lib\\site-packages (from jsonschema[format-nongpl]>=4.18.0->jupyter-events>=0.9.0->jupyter-server<3,>=2.4.0->notebook) (24.11.1)\n",
      "Requirement already satisfied: six>=1.5 in c:\\users\\johan\\appdata\\local\\programs\\python\\python313\\lib\\site-packages (from python-dateutil>=2.8.2->jupyter-client>=7.4.4->jupyter-server<3,>=2.4.0->notebook) (1.16.0)\n",
      "Requirement already satisfied: cffi>=1.0.1 in c:\\users\\johan\\appdata\\local\\programs\\python\\python313\\lib\\site-packages (from argon2-cffi-bindings->argon2-cffi>=21.1->jupyter-server<3,>=2.4.0->notebook) (1.17.1)\n",
      "Requirement already satisfied: soupsieve>1.2 in c:\\users\\johan\\appdata\\local\\programs\\python\\python313\\lib\\site-packages (from beautifulsoup4->nbconvert>=6.4.4->jupyter-server<3,>=2.4.0->notebook) (2.6)\n",
      "Requirement already satisfied: pycparser in c:\\users\\johan\\appdata\\local\\programs\\python\\python313\\lib\\site-packages (from cffi>=1.0.1->argon2-cffi-bindings->argon2-cffi>=21.1->jupyter-server<3,>=2.4.0->notebook) (2.22)\n",
      "Requirement already satisfied: parso<0.9.0,>=0.8.4 in c:\\users\\johan\\appdata\\local\\programs\\python\\python313\\lib\\site-packages (from jedi>=0.16->ipython>=7.23.1->ipykernel>=6.5.0->jupyterlab<4.3,>=4.2.0->notebook) (0.8.4)\n",
      "Requirement already satisfied: wcwidth in c:\\users\\johan\\appdata\\local\\programs\\python\\python313\\lib\\site-packages (from prompt-toolkit<3.1.0,>=3.0.41->ipython>=7.23.1->ipykernel>=6.5.0->jupyterlab<4.3,>=4.2.0->notebook) (0.2.13)\n",
      "Requirement already satisfied: arrow>=0.15.0 in c:\\users\\johan\\appdata\\local\\programs\\python\\python313\\lib\\site-packages (from isoduration->jsonschema[format-nongpl]>=4.18.0->jupyter-events>=0.9.0->jupyter-server<3,>=2.4.0->notebook) (1.3.0)\n",
      "Requirement already satisfied: executing>=1.2.0 in c:\\users\\johan\\appdata\\local\\programs\\python\\python313\\lib\\site-packages (from stack-data->ipython>=7.23.1->ipykernel>=6.5.0->jupyterlab<4.3,>=4.2.0->notebook) (2.1.0)\n",
      "Requirement already satisfied: asttokens>=2.1.0 in c:\\users\\johan\\appdata\\local\\programs\\python\\python313\\lib\\site-packages (from stack-data->ipython>=7.23.1->ipykernel>=6.5.0->jupyterlab<4.3,>=4.2.0->notebook) (2.4.1)\n",
      "Requirement already satisfied: pure-eval in c:\\users\\johan\\appdata\\local\\programs\\python\\python313\\lib\\site-packages (from stack-data->ipython>=7.23.1->ipykernel>=6.5.0->jupyterlab<4.3,>=4.2.0->notebook) (0.2.3)\n",
      "Requirement already satisfied: types-python-dateutil>=2.8.10 in c:\\users\\johan\\appdata\\local\\programs\\python\\python313\\lib\\site-packages (from arrow>=0.15.0->isoduration->jsonschema[format-nongpl]>=4.18.0->jupyter-events>=0.9.0->jupyter-server<3,>=2.4.0->notebook) (2.9.0.20241003)\n",
      "Downloading notebook-7.2.2-py3-none-any.whl (5.0 MB)\n",
      "   ---------------------------------------- 0.0/5.0 MB ? eta -:--:--\n",
      "   ---------------- ----------------------- 2.1/5.0 MB 10.5 MB/s eta 0:00:01\n",
      "   ------------------------------------- -- 4.7/5.0 MB 11.2 MB/s eta 0:00:01\n",
      "   ---------------------------------------- 5.0/5.0 MB 9.1 MB/s eta 0:00:00\n",
      "Downloading jupyterlab-4.2.6-py3-none-any.whl (11.6 MB)\n",
      "   ---------------------------------------- 0.0/11.6 MB ? eta -:--:--\n",
      "   --------- ------------------------------ 2.6/11.6 MB 12.3 MB/s eta 0:00:01\n",
      "   ----------------- ---------------------- 5.0/11.6 MB 11.9 MB/s eta 0:00:01\n",
      "   -------------------------- ------------- 7.6/11.6 MB 11.9 MB/s eta 0:00:01\n",
      "   ---------------------------------- ----- 10.0/11.6 MB 11.9 MB/s eta 0:00:01\n",
      "   ---------------------------------------- 11.6/11.6 MB 11.0 MB/s eta 0:00:00\n",
      "Installing collected packages: jupyterlab, notebook\n",
      "  Attempting uninstall: jupyterlab\n",
      "    Found existing installation: jupyterlab 4.3.0\n",
      "    Uninstalling jupyterlab-4.3.0:\n",
      "      Successfully uninstalled jupyterlab-4.3.0\n",
      "Successfully installed jupyterlab-4.2.6 notebook-7.2.2\n"
     ]
    }
   ],
   "source": [
    "!pip install notebook"
   ]
  },
  {
   "cell_type": "code",
   "execution_count": 91,
   "metadata": {
    "execution": {
     "iopub.execute_input": "2024-11-26T13:05:29.596881Z",
     "iopub.status.busy": "2024-11-26T13:05:29.595803Z",
     "iopub.status.idle": "2024-11-26T13:05:30.010051Z",
     "shell.execute_reply": "2024-11-26T13:05:30.009483Z",
     "shell.execute_reply.started": "2024-11-26T13:05:29.596842Z"
    },
    "scrolled": true
   },
   "outputs": [
    {
     "ename": "NodeLockError",
     "evalue": "Node lock error (current status: busy)",
     "output_type": "error",
     "traceback": [
      "\u001b[1;31m---------------------------------------------------------------------------\u001b[0m",
      "\u001b[1;31mNodeLockError\u001b[0m                             Traceback (most recent call last)",
      "Cell \u001b[1;32mIn[91], line 2\u001b[0m\n\u001b[0;32m      1\u001b[0m \u001b[38;5;28;01mimport\u001b[39;00m \u001b[38;5;21;01mtdmclient\u001b[39;00m\u001b[38;5;21;01m.\u001b[39;00m\u001b[38;5;21;01mnotebook\u001b[39;00m\n\u001b[1;32m----> 2\u001b[0m \u001b[38;5;28;01mawait\u001b[39;00m tdmclient\u001b[38;5;241m.\u001b[39mnotebook\u001b[38;5;241m.\u001b[39mstart()\n",
      "File \u001b[1;32mc:\\Users\\johan\\AppData\\Local\\Programs\\Python\\Python313\\Lib\\site-packages\\tdmclient\\notebook\\private.py:112\u001b[0m, in \u001b[0;36mstart\u001b[1;34m(zeroconf, zeroconf_all, tdm_ws, tdm_addr, tdm_port, password, debug, **kwargs)\u001b[0m\n\u001b[0;32m    107\u001b[0m client \u001b[38;5;241m=\u001b[39m ClientAsync(zeroconf\u001b[38;5;241m=\u001b[39mzeroconf, zeroconf_all\u001b[38;5;241m=\u001b[39mzeroconf_all,\n\u001b[0;32m    108\u001b[0m                      tdm_addr\u001b[38;5;241m=\u001b[39mtdm_addr, tdm_port\u001b[38;5;241m=\u001b[39mtdm_port, tdm_ws\u001b[38;5;241m=\u001b[39mtdm_ws,\n\u001b[0;32m    109\u001b[0m                      password\u001b[38;5;241m=\u001b[39mpassword,\n\u001b[0;32m    110\u001b[0m                      debug\u001b[38;5;241m=\u001b[39mdebug)\n\u001b[0;32m    111\u001b[0m node \u001b[38;5;241m=\u001b[39m \u001b[38;5;28;01mawait\u001b[39;00m client\u001b[38;5;241m.\u001b[39mwait_for_node(\u001b[38;5;241m*\u001b[39m\u001b[38;5;241m*\u001b[39mkwargs)\n\u001b[1;32m--> 112\u001b[0m \u001b[38;5;28;01mawait\u001b[39;00m node\u001b[38;5;241m.\u001b[39mlock()\n\u001b[0;32m    114\u001b[0m \u001b[38;5;28;01mglobal\u001b[39;00m _interactive_console\n\u001b[0;32m    115\u001b[0m _interactive_console \u001b[38;5;241m=\u001b[39m TDMConsole(local_var\u001b[38;5;241m=\u001b[39mget_ipython()\u001b[38;5;241m.\u001b[39muser_ns)\n",
      "File \u001b[1;32mc:\\Users\\johan\\AppData\\Local\\Programs\\Python\\Python313\\Lib\\site-packages\\tdmclient\\clientasyncnode.py:61\u001b[0m, in \u001b[0;36mClientAsyncNode.lock\u001b[1;34m(self)\u001b[0m\n\u001b[0;32m     59\u001b[0m result \u001b[38;5;241m=\u001b[39m \u001b[38;5;28;01myield from\u001b[39;00m \u001b[38;5;28mself\u001b[39m\u001b[38;5;241m.\u001b[39mlock_node()\n\u001b[0;32m     60\u001b[0m \u001b[38;5;28;01mif\u001b[39;00m result \u001b[38;5;129;01mis\u001b[39;00m \u001b[38;5;129;01mnot\u001b[39;00m \u001b[38;5;28;01mNone\u001b[39;00m:\n\u001b[1;32m---> 61\u001b[0m     \u001b[38;5;28;01mraise\u001b[39;00m NodeLockError(\u001b[38;5;28mself\u001b[39m\u001b[38;5;241m.\u001b[39mstatus)\n\u001b[0;32m     62\u001b[0m \u001b[38;5;28;01mreturn\u001b[39;00m \u001b[38;5;28mself\u001b[39m\n",
      "\u001b[1;31mNodeLockError\u001b[0m: Node lock error (current status: busy)"
     ]
    }
   ],
   "source": [
    "import tdmclient.notebook\n",
    "await tdmclient.notebook.start()"
   ]
  },
  {
   "cell_type": "code",
   "execution_count": null,
   "metadata": {},
   "outputs": [
    {
     "ename": "ModuleNotFoundError",
     "evalue": "No module named 'chemin'",
     "output_type": "error",
     "traceback": [
      "\u001b[1;31m---------------------------------------------------------------------------\u001b[0m",
      "\u001b[1;31mModuleNotFoundError\u001b[0m                       Traceback (most recent call last)",
      "Cell \u001b[1;32mIn[2], line 1\u001b[0m\n\u001b[1;32m----> 1\u001b[0m \u001b[38;5;28;01mimport\u001b[39;00m \u001b[38;5;21;01mchemin\u001b[39;00m\n",
      "\u001b[1;31mModuleNotFoundError\u001b[0m: No module named 'chemin'"
     ]
    }
   ],
   "source": [
    "import chemin"
   ]
  },
  {
   "cell_type": "code",
   "execution_count": null,
   "metadata": {},
   "outputs": [],
   "source": []
  },
  {
   "cell_type": "code",
   "execution_count": 81,
   "metadata": {
    "execution": {
     "iopub.execute_input": "2024-11-26T13:05:33.009452Z",
     "iopub.status.busy": "2024-11-26T13:05:33.009001Z",
     "iopub.status.idle": "2024-11-26T13:05:33.365686Z",
     "shell.execute_reply": "2024-11-26T13:05:33.364754Z",
     "shell.execute_reply.started": "2024-11-26T13:05:33.009424Z"
    }
   },
   "outputs": [
    {
     "ename": "TranspilerError",
     "evalue": "unknown function 'calcul_chemin' (line 43)",
     "output_type": "error",
     "traceback": [
      "\u001b[1;31m---------------------------------------------------------------------------\u001b[0m",
      "\u001b[1;31mTranspilerError\u001b[0m                           Traceback (most recent call last)",
      "Cell \u001b[1;32mIn[81], line 1\u001b[0m\n\u001b[1;32m----> 1\u001b[0m \u001b[43mget_ipython\u001b[49m\u001b[43m(\u001b[49m\u001b[43m)\u001b[49m\u001b[38;5;241;43m.\u001b[39;49m\u001b[43mrun_cell_magic\u001b[49m\u001b[43m(\u001b[49m\u001b[38;5;124;43m'\u001b[39;49m\u001b[38;5;124;43mrun_python\u001b[39;49m\u001b[38;5;124;43m'\u001b[39;49m\u001b[43m,\u001b[49m\u001b[43m \u001b[49m\u001b[38;5;124;43m'\u001b[39;49m\u001b[38;5;124;43m'\u001b[39;49m\u001b[43m,\u001b[49m\u001b[43m \u001b[49m\u001b[38;5;124;43m\"\u001b[39;49m\u001b[38;5;130;43;01m\\n\u001b[39;49;00m\u001b[38;5;130;43;01m\\n\u001b[39;49;00m\u001b[38;5;124;43mspeed0 = 100  # Vitesse nominale\u001b[39;49m\u001b[38;5;130;43;01m\\n\u001b[39;49;00m\u001b[38;5;124;43mspeedGain = 2  # Gain utilisé avec gradient de sol\u001b[39;49m\u001b[38;5;130;43;01m\\n\u001b[39;49;00m\u001b[38;5;124;43mobstSpeedGain = [6, 4, -2, -6, -8]  # Gain /100 pour les capteurs de proximité\u001b[39;49m\u001b[38;5;130;43;01m\\n\u001b[39;49;00m\u001b[38;5;124;43mtimer_period[0] = 10  # Temps d\u001b[39;49m\u001b[38;5;124;43m'\u001b[39;49m\u001b[38;5;124;43méchantillonnage de 10ms\u001b[39;49m\u001b[38;5;130;43;01m\\n\u001b[39;49;00m\u001b[38;5;124;43mp_new = [0, 0, 0]  # Position initiale [x, y, theta]\u001b[39;49m\u001b[38;5;130;43;01m\\n\u001b[39;49;00m\u001b[38;5;124;43mp_old = [0, 0, 0]\u001b[39;49m\u001b[38;5;130;43;01m\\n\u001b[39;49;00m\u001b[38;5;124;43mwheel_distance = 95  # Distance entre les roues en mm\u001b[39;49m\u001b[38;5;130;43;01m\\n\u001b[39;49;00m\u001b[38;5;124;43mwheel_radius = 25  # Rayon des roues en mm\u001b[39;49m\u001b[38;5;130;43;01m\\n\u001b[39;49;00m\u001b[38;5;130;43;01m\\n\u001b[39;49;00m\u001b[38;5;124;43m# Initialisation des vitesses des moteurs\u001b[39;49m\u001b[38;5;130;43;01m\\n\u001b[39;49;00m\u001b[38;5;124;43mspLeft = 0\u001b[39;49m\u001b[38;5;130;43;01m\\n\u001b[39;49;00m\u001b[38;5;124;43mspRight = 0\u001b[39;49m\u001b[38;5;130;43;01m\\n\u001b[39;49;00m\u001b[38;5;124;43mmotor_left_target = 0\u001b[39;49m\u001b[38;5;130;43;01m\\n\u001b[39;49;00m\u001b[38;5;124;43mmotor_right_target = 0\u001b[39;49m\u001b[38;5;130;43;01m\\n\u001b[39;49;00m\u001b[38;5;130;43;01m\\n\u001b[39;49;00m\u001b[38;5;130;43;01m\\n\u001b[39;49;00m\u001b[38;5;124;43m@onevent\u001b[39;49m\u001b[38;5;130;43;01m\\n\u001b[39;49;00m\u001b[38;5;124;43mdef timer0():\u001b[39;49m\u001b[38;5;130;43;01m\\n\u001b[39;49;00m\u001b[38;5;124;43m    global p_new, p_old, motor_left_target, motor_right_target, spLeft, spRight\u001b[39;49m\u001b[38;5;130;43;01m\\n\u001b[39;49;00m\u001b[38;5;124;43m    global speed0, speedGain, obstSpeedGain, prox_horizontal\u001b[39;49m\u001b[38;5;130;43;01m\\n\u001b[39;49;00m\u001b[38;5;130;43;01m\\n\u001b[39;49;00m\u001b[38;5;124;43m    # Sauvegarder la position précédente\u001b[39;49m\u001b[38;5;130;43;01m\\n\u001b[39;49;00m\u001b[38;5;124;43m    p_old[0] = p_new[0]\u001b[39;49m\u001b[38;5;130;43;01m\\n\u001b[39;49;00m\u001b[38;5;124;43m    p_old[1] = p_new[1]\u001b[39;49m\u001b[38;5;130;43;01m\\n\u001b[39;49;00m\u001b[38;5;124;43m    p_old[2] = p_new[2]\u001b[39;49m\u001b[38;5;130;43;01m\\n\u001b[39;49;00m\u001b[38;5;130;43;01m\\n\u001b[39;49;00m\u001b[38;5;124;43m    # Simulation des vitesses des moteurs (valeurs actuelles des moteurs)\u001b[39;49m\u001b[38;5;130;43;01m\\n\u001b[39;49;00m\u001b[38;5;124;43m    motor_left_speed = spLeft  # Vitesse gauche (en mm/s)\u001b[39;49m\u001b[38;5;130;43;01m\\n\u001b[39;49;00m\u001b[38;5;124;43m    motor_right_speed = spRight  # Vitesse droite (en mm/s)\u001b[39;49m\u001b[38;5;130;43;01m\\n\u001b[39;49;00m\u001b[38;5;124;43m    sampling_time = 10  # Intervalle de temps (en secondes)\u001b[39;49m\u001b[38;5;130;43;01m\\n\u001b[39;49;00m\u001b[38;5;130;43;01m\\n\u001b[39;49;00m\u001b[38;5;124;43m    # Distances parcourues par chaque roue\u001b[39;49m\u001b[38;5;130;43;01m\\n\u001b[39;49;00m\u001b[38;5;124;43m    d_left = motor_left_speed * sampling_time\u001b[39;49m\u001b[38;5;130;43;01m\\n\u001b[39;49;00m\u001b[38;5;124;43m    d_right = motor_right_speed * sampling_time\u001b[39;49m\u001b[38;5;130;43;01m\\n\u001b[39;49;00m\u001b[38;5;130;43;01m\\n\u001b[39;49;00m\u001b[38;5;124;43m    # Distance moyenne et changement d\u001b[39;49m\u001b[38;5;124;43m'\u001b[39;49m\u001b[38;5;124;43morientation\u001b[39;49m\u001b[38;5;130;43;01m\\n\u001b[39;49;00m\u001b[38;5;124;43m    d = (d_left + d_right) // 2\u001b[39;49m\u001b[38;5;130;43;01m\\n\u001b[39;49;00m\u001b[38;5;124;43m    delta_theta = (d_right - d_left) // wheel_distance\u001b[39;49m\u001b[38;5;130;43;01m\\n\u001b[39;49;00m\u001b[38;5;130;43;01m\\n\u001b[39;49;00m\u001b[38;5;124;43m    # Mise à jour de la position\u001b[39;49m\u001b[38;5;130;43;01m\\n\u001b[39;49;00m\u001b[38;5;124;43m    calcul_chemin(p_new,delta_theta,d)\u001b[39;49m\u001b[38;5;130;43;01m\\n\u001b[39;49;00m\u001b[38;5;130;43;01m\\n\u001b[39;49;00m\u001b[38;5;124;43m    # Calcul de la différence de position (exemple : suivi d\u001b[39;49m\u001b[38;5;124;43m'\u001b[39;49m\u001b[38;5;124;43mune ligne droite)\u001b[39;49m\u001b[38;5;130;43;01m\\n\u001b[39;49;00m\u001b[38;5;124;43m    diffDelta = (p_new[0] + p_new[1]) - (p_old[0] + p_old[1])\u001b[39;49m\u001b[38;5;130;43;01m\\n\u001b[39;49;00m\u001b[38;5;130;43;01m\\n\u001b[39;49;00m\u001b[38;5;124;43m    # Ajustement des vitesses en fonction de la différence\u001b[39;49m\u001b[38;5;130;43;01m\\n\u001b[39;49;00m\u001b[38;5;124;43m    spLeft = speed0 - speedGain * diffDelta\u001b[39;49m\u001b[38;5;130;43;01m\\n\u001b[39;49;00m\u001b[38;5;124;43m    spRight = speed0 + speedGain * diffDelta\u001b[39;49m\u001b[38;5;130;43;01m\\n\u001b[39;49;00m\u001b[38;5;130;43;01m\\n\u001b[39;49;00m\u001b[38;5;124;43m    # Ajustement pour les obstacles\u001b[39;49m\u001b[38;5;130;43;01m\\n\u001b[39;49;00m\u001b[38;5;124;43m    for i in range(5):\u001b[39;49m\u001b[38;5;130;43;01m\\n\u001b[39;49;00m\u001b[38;5;124;43m        spLeft += prox_horizontal[i] * obstSpeedGain[i] // 100\u001b[39;49m\u001b[38;5;130;43;01m\\n\u001b[39;49;00m\u001b[38;5;124;43m        spRight += prox_horizontal[i] * obstSpeedGain[4 - i] // 100\u001b[39;49m\u001b[38;5;130;43;01m\\n\u001b[39;49;00m\u001b[38;5;130;43;01m\\n\u001b[39;49;00m\u001b[38;5;124;43m    # Contrôle des moteurs\u001b[39;49m\u001b[38;5;130;43;01m\\n\u001b[39;49;00m\u001b[38;5;124;43m    motor_left_target = spLeft\u001b[39;49m\u001b[38;5;130;43;01m\\n\u001b[39;49;00m\u001b[38;5;124;43m    motor_right_target = spRight\u001b[39;49m\u001b[38;5;130;43;01m\\n\u001b[39;49;00m\u001b[38;5;124;43m\"\u001b[39;49m\u001b[43m)\u001b[49m\n",
      "File \u001b[1;32mc:\\Users\\johan\\AppData\\Local\\Programs\\Python\\Python313\\Lib\\site-packages\\IPython\\core\\interactiveshell.py:2541\u001b[0m, in \u001b[0;36mInteractiveShell.run_cell_magic\u001b[1;34m(self, magic_name, line, cell)\u001b[0m\n\u001b[0;32m   2539\u001b[0m \u001b[38;5;28;01mwith\u001b[39;00m \u001b[38;5;28mself\u001b[39m\u001b[38;5;241m.\u001b[39mbuiltin_trap:\n\u001b[0;32m   2540\u001b[0m     args \u001b[38;5;241m=\u001b[39m (magic_arg_s, cell)\n\u001b[1;32m-> 2541\u001b[0m     result \u001b[38;5;241m=\u001b[39m \u001b[43mfn\u001b[49m\u001b[43m(\u001b[49m\u001b[38;5;241;43m*\u001b[39;49m\u001b[43margs\u001b[49m\u001b[43m,\u001b[49m\u001b[43m \u001b[49m\u001b[38;5;241;43m*\u001b[39;49m\u001b[38;5;241;43m*\u001b[39;49m\u001b[43mkwargs\u001b[49m\u001b[43m)\u001b[49m\n\u001b[0;32m   2543\u001b[0m \u001b[38;5;66;03m# The code below prevents the output from being displayed\u001b[39;00m\n\u001b[0;32m   2544\u001b[0m \u001b[38;5;66;03m# when using magics with decorator @output_can_be_silenced\u001b[39;00m\n\u001b[0;32m   2545\u001b[0m \u001b[38;5;66;03m# when the last Python token in the expression is a ';'.\u001b[39;00m\n\u001b[0;32m   2546\u001b[0m \u001b[38;5;28;01mif\u001b[39;00m \u001b[38;5;28mgetattr\u001b[39m(fn, magic\u001b[38;5;241m.\u001b[39mMAGIC_OUTPUT_CAN_BE_SILENCED, \u001b[38;5;28;01mFalse\u001b[39;00m):\n",
      "File \u001b[1;32mc:\\Users\\johan\\AppData\\Local\\Programs\\Python\\Python313\\Lib\\site-packages\\tdmclient\\notebook\\private.py:381\u001b[0m, in \u001b[0;36mrun_python\u001b[1;34m(line, cell)\u001b[0m\n\u001b[0;32m    378\u001b[0m     _interactive_console\u001b[38;5;241m.\u001b[39mclear_event_data()\n\u001b[0;32m    380\u001b[0m \u001b[38;5;28;01mtry\u001b[39;00m:\n\u001b[1;32m--> 381\u001b[0m     \u001b[43m_interactive_console\u001b[49m\u001b[38;5;241;43m.\u001b[39;49m\u001b[43mrun_program\u001b[49m\u001b[43m(\u001b[49m\u001b[43mpython_preamble\u001b[49m\u001b[43m \u001b[49m\u001b[38;5;241;43m+\u001b[39;49m\u001b[43m \u001b[49m\u001b[43mcell\u001b[49m\u001b[43m,\u001b[49m\n\u001b[0;32m    382\u001b[0m \u001b[43m                                     \u001b[49m\u001b[43mnodes\u001b[49m\u001b[38;5;241;43m=\u001b[39;49m\u001b[43mnodes\u001b[49m\u001b[43m \u001b[49m\u001b[38;5;28;43;01mif\u001b[39;49;00m\u001b[43m \u001b[49m\u001b[38;5;28;43mlen\u001b[39;49m\u001b[43m(\u001b[49m\u001b[43mnodes\u001b[49m\u001b[43m)\u001b[49m\u001b[43m \u001b[49m\u001b[38;5;241;43m>\u001b[39;49m\u001b[43m \u001b[49m\u001b[38;5;241;43m0\u001b[39;49m\u001b[43m \u001b[49m\u001b[38;5;28;43;01melse\u001b[39;49;00m\u001b[43m \u001b[49m\u001b[38;5;28;43;01mNone\u001b[39;49;00m\u001b[43m,\u001b[49m\n\u001b[0;32m    383\u001b[0m \u001b[43m                                     \u001b[49m\u001b[43mlanguage\u001b[49m\u001b[38;5;241;43m=\u001b[39;49m\u001b[38;5;124;43m\"\u001b[39;49m\u001b[38;5;124;43mpython\u001b[39;49m\u001b[38;5;124;43m\"\u001b[39;49m\u001b[43m,\u001b[49m\n\u001b[0;32m    384\u001b[0m \u001b[43m                                     \u001b[49m\u001b[43mwarning_missing_global\u001b[49m\u001b[38;5;241;43m=\u001b[39;49m\u001b[43mwarning_missing_global\u001b[49m\u001b[43m,\u001b[49m\n\u001b[0;32m    385\u001b[0m \u001b[43m                                     \u001b[49m\u001b[43mwait\u001b[49m\u001b[38;5;241;43m=\u001b[39;49m\u001b[43mwait\u001b[49m\u001b[43m,\u001b[49m\u001b[43m \u001b[49m\u001b[43mimport_thymio\u001b[49m\u001b[38;5;241;43m=\u001b[39;49m\u001b[43mimport_thymio\u001b[49m\u001b[43m)\u001b[49m\n\u001b[0;32m    386\u001b[0m \u001b[38;5;28;01mexcept\u001b[39;00m \u001b[38;5;167;01mKeyboardInterrupt\u001b[39;00m:\n\u001b[0;32m    387\u001b[0m     \u001b[38;5;66;03m# avoid long exception message with stack trace\u001b[39;00m\n\u001b[0;32m    388\u001b[0m     \u001b[38;5;28mprint\u001b[39m(\u001b[38;5;124m\"\u001b[39m\u001b[38;5;124mInterrupted\u001b[39m\u001b[38;5;124m\"\u001b[39m)\n",
      "File \u001b[1;32mc:\\Users\\johan\\AppData\\Local\\Programs\\Python\\Python313\\Lib\\site-packages\\tdmclient\\repl.py:560\u001b[0m, in \u001b[0;36mTDMConsole.run_program\u001b[1;34m(self, src, nodes, language, warning_missing_global, wait, import_thymio)\u001b[0m\n\u001b[0;32m    557\u001b[0m \u001b[38;5;28;01mwith\u001b[39;00m \u001b[38;5;28mself\u001b[39m\u001b[38;5;241m.\u001b[39mlock_robots(nodes) \u001b[38;5;28;01mas\u001b[39;00m nodes_l:\n\u001b[0;32m    558\u001b[0m     \u001b[38;5;66;03m# transpile, compile, load, set scratchpad, and run\u001b[39;00m\n\u001b[0;32m    559\u001b[0m     \u001b[38;5;28;01mfor\u001b[39;00m node \u001b[38;5;129;01min\u001b[39;00m nodes_l:\n\u001b[1;32m--> 560\u001b[0m         wait_for_node \u001b[38;5;241m=\u001b[39m \u001b[43mrun_node\u001b[49m\u001b[43m(\u001b[49m\u001b[43mnode\u001b[49m\u001b[43m)\u001b[49m\n\u001b[0;32m    561\u001b[0m         wait_for_nodes \u001b[38;5;241m=\u001b[39m wait_for_nodes \u001b[38;5;129;01mor\u001b[39;00m wait_for_node\n\u001b[0;32m    562\u001b[0m         running_nodes\u001b[38;5;241m.\u001b[39madd(node)\n",
      "File \u001b[1;32mc:\\Users\\johan\\AppData\\Local\\Programs\\Python\\Python313\\Lib\\site-packages\\tdmclient\\repl.py:516\u001b[0m, in \u001b[0;36mTDMConsole.run_program.<locals>.run_node\u001b[1;34m(node)\u001b[0m\n\u001b[0;32m    513\u001b[0m events \u001b[38;5;241m=\u001b[39m []\n\u001b[0;32m    514\u001b[0m \u001b[38;5;28;01mif\u001b[39;00m language \u001b[38;5;241m==\u001b[39m \u001b[38;5;124m\"\u001b[39m\u001b[38;5;124mpython\u001b[39m\u001b[38;5;124m\"\u001b[39m:\n\u001b[0;32m    515\u001b[0m     \u001b[38;5;66;03m# transpile from Python to Aseba\u001b[39;00m\n\u001b[1;32m--> 516\u001b[0m     transpiler \u001b[38;5;241m=\u001b[39m \u001b[38;5;28;43mself\u001b[39;49m\u001b[38;5;241;43m.\u001b[39;49m\u001b[43mtranspile\u001b[49m\u001b[43m(\u001b[49m\u001b[43msrc\u001b[49m\u001b[43m,\u001b[49m\n\u001b[0;32m    517\u001b[0m \u001b[43m                                \u001b[49m\u001b[43mimport_thymio\u001b[49m\u001b[38;5;241;43m=\u001b[39;49m\u001b[43mimport_thymio\u001b[49m\u001b[43m,\u001b[49m\n\u001b[0;32m    518\u001b[0m \u001b[43m                                \u001b[49m\u001b[43mwarning_missing_global\u001b[49m\u001b[38;5;241;43m=\u001b[39;49m\u001b[43mwarning_missing_global\u001b[49m\u001b[43m)\u001b[49m\n\u001b[0;32m    519\u001b[0m     src_aseba \u001b[38;5;241m=\u001b[39m transpiler\u001b[38;5;241m.\u001b[39mget_output()\n\u001b[0;32m    520\u001b[0m     print_statements[node] \u001b[38;5;241m=\u001b[39m transpiler\u001b[38;5;241m.\u001b[39mprint_format_strings\n",
      "File \u001b[1;32mc:\\Users\\johan\\AppData\\Local\\Programs\\Python\\Python313\\Lib\\site-packages\\tdmclient\\repl.py:327\u001b[0m, in \u001b[0;36mTDMConsole.transpile\u001b[1;34m(src, import_thymio, warning_missing_global)\u001b[0m\n\u001b[0;32m    324\u001b[0m             transpiler\u001b[38;5;241m.\u001b[39mset_preamble(\u001b[38;5;124m\"\"\"\u001b[39m\u001b[38;5;124mfrom thymio import *\u001b[39m\n\u001b[0;32m    325\u001b[0m \u001b[38;5;124m\"\"\"\u001b[39m)\n\u001b[0;32m    326\u001b[0m         transpiler\u001b[38;5;241m.\u001b[39mset_source(src)\n\u001b[1;32m--> 327\u001b[0m         \u001b[43mtranspiler\u001b[49m\u001b[38;5;241;43m.\u001b[39;49m\u001b[43mtranspile\u001b[49m\u001b[43m(\u001b[49m\u001b[43m)\u001b[49m\n\u001b[0;32m    328\u001b[0m         \u001b[38;5;28;01mif\u001b[39;00m warning_missing_global:\n\u001b[0;32m    329\u001b[0m             w \u001b[38;5;241m=\u001b[39m missing_global_decl(transpiler)\n",
      "File \u001b[1;32mc:\\Users\\johan\\AppData\\Local\\Programs\\Python\\Python313\\Lib\\site-packages\\tdmclient\\atranspiler.py:1338\u001b[0m, in \u001b[0;36mATranspiler.transpile\u001b[1;34m(self)\u001b[0m\n\u001b[0;32m   1336\u001b[0m fun_print_format_string_next_id \u001b[38;5;241m=\u001b[39m \u001b[38;5;28mself\u001b[39m\u001b[38;5;241m.\u001b[39mprint_format_string_next_id\n\u001b[0;32m   1337\u001b[0m \u001b[38;5;28mself\u001b[39m\u001b[38;5;241m.\u001b[39mcontext_top\u001b[38;5;241m.\u001b[39mfunctions[fun_name]\u001b[38;5;241m.\u001b[39mcollect_local_variables \u001b[38;5;241m=\u001b[39m \u001b[38;5;28;01mTrue\u001b[39;00m\n\u001b[1;32m-> 1338\u001b[0m _ \u001b[38;5;241m=\u001b[39m \u001b[38;5;28;43mself\u001b[39;49m\u001b[38;5;241;43m.\u001b[39;49m\u001b[43mcompile_node_array\u001b[49m\u001b[43m(\u001b[49m\u001b[38;5;28;43mself\u001b[39;49m\u001b[38;5;241;43m.\u001b[39;49m\u001b[43mcontext_top\u001b[49m\u001b[38;5;241;43m.\u001b[39;49m\u001b[43mfunctions\u001b[49m\u001b[43m[\u001b[49m\u001b[43mfun_name\u001b[49m\u001b[43m]\u001b[49m\u001b[38;5;241;43m.\u001b[39;49m\u001b[43mfunction_def\u001b[49m\u001b[38;5;241;43m.\u001b[39;49m\u001b[43mbody\u001b[49m\u001b[43m,\u001b[49m\u001b[43m \u001b[49m\u001b[38;5;28;43mself\u001b[39;49m\u001b[38;5;241;43m.\u001b[39;49m\u001b[43mcontext_top\u001b[49m\u001b[38;5;241;43m.\u001b[39;49m\u001b[43mfunctions\u001b[49m\u001b[43m[\u001b[49m\u001b[43mfun_name\u001b[49m\u001b[43m]\u001b[49m\u001b[43m)\u001b[49m\n\u001b[0;32m   1339\u001b[0m \u001b[38;5;28mself\u001b[39m\u001b[38;5;241m.\u001b[39mcontext_top\u001b[38;5;241m.\u001b[39mfunctions[fun_name]\u001b[38;5;241m.\u001b[39mcollect_local_variables \u001b[38;5;241m=\u001b[39m \u001b[38;5;28;01mFalse\u001b[39;00m\n\u001b[0;32m   1340\u001b[0m \u001b[38;5;66;03m# set functions without return statements to void\u001b[39;00m\n",
      "File \u001b[1;32mc:\\Users\\johan\\AppData\\Local\\Programs\\Python\\Python313\\Lib\\site-packages\\tdmclient\\atranspiler.py:1304\u001b[0m, in \u001b[0;36mATranspiler.compile_node_array\u001b[1;34m(self, node_array, context)\u001b[0m\n\u001b[0;32m   1300\u001b[0m \u001b[38;5;28;01mdef\u001b[39;00m \u001b[38;5;21mcompile_node_array\u001b[39m(\u001b[38;5;28mself\u001b[39m, node_array, context):\n\u001b[0;32m   1301\u001b[0m \u001b[38;5;250m    \u001b[39m\u001b[38;5;124;03m\"\"\"Compile an array of ast statement nodes.\u001b[39;00m\n\u001b[0;32m   1302\u001b[0m \u001b[38;5;124;03m    \"\"\"\u001b[39;00m\n\u001b[0;32m   1303\u001b[0m     code \u001b[38;5;241m=\u001b[39m \u001b[38;5;124m\"\u001b[39m\u001b[38;5;124m\"\u001b[39m\u001b[38;5;241m.\u001b[39mjoin([\n\u001b[1;32m-> 1304\u001b[0m         \u001b[38;5;28;43mself\u001b[39;49m\u001b[38;5;241;43m.\u001b[39;49m\u001b[43mcompile_node\u001b[49m\u001b[43m(\u001b[49m\u001b[43mnode\u001b[49m\u001b[43m,\u001b[49m\u001b[43m \u001b[49m\u001b[43mcontext\u001b[49m\u001b[43m)\u001b[49m\n\u001b[0;32m   1305\u001b[0m         \u001b[38;5;28;01mfor\u001b[39;00m node \u001b[38;5;129;01min\u001b[39;00m node_array\n\u001b[0;32m   1306\u001b[0m     ])\n\u001b[0;32m   1307\u001b[0m     \u001b[38;5;28;01mreturn\u001b[39;00m code\n",
      "File \u001b[1;32mc:\\Users\\johan\\AppData\\Local\\Programs\\Python\\Python313\\Lib\\site-packages\\tdmclient\\atranspiler.py:1119\u001b[0m, in \u001b[0;36mATranspiler.compile_node\u001b[1;34m(self, node, context)\u001b[0m\n\u001b[0;32m   1117\u001b[0m             \u001b[38;5;28;01mreturn\u001b[39;00m code\n\u001b[0;32m   1118\u001b[0m     \u001b[38;5;66;03m# parse expression, ignoring result\u001b[39;00m\n\u001b[1;32m-> 1119\u001b[0m     _, aux_statements, _ \u001b[38;5;241m=\u001b[39m \u001b[38;5;28;43mself\u001b[39;49m\u001b[38;5;241;43m.\u001b[39;49m\u001b[43mcompile_expr\u001b[49m\u001b[43m(\u001b[49m\u001b[43mexpr\u001b[49m\u001b[43m,\u001b[49m\u001b[43m \u001b[49m\u001b[43mcontext\u001b[49m\u001b[43m,\u001b[49m\u001b[43m \u001b[49m\u001b[38;5;28;43mself\u001b[39;49m\u001b[38;5;241;43m.\u001b[39;49m\u001b[43mPRI_EXPR\u001b[49m\u001b[43m)\u001b[49m\n\u001b[0;32m   1120\u001b[0m     \u001b[38;5;28;01mreturn\u001b[39;00m aux_statements\n\u001b[0;32m   1121\u001b[0m \u001b[38;5;28;01mif\u001b[39;00m \u001b[38;5;28misinstance\u001b[39m(node, ast\u001b[38;5;241m.\u001b[39mFor):\n\u001b[0;32m   1122\u001b[0m     \u001b[38;5;66;03m# for var in range(...): ...\u001b[39;00m\n",
      "File \u001b[1;32mc:\\Users\\johan\\AppData\\Local\\Programs\\Python\\Python313\\Lib\\site-packages\\tdmclient\\atranspiler.py:722\u001b[0m, in \u001b[0;36mATranspiler.compile_expr\u001b[1;34m(self, node, context, priority_container)\u001b[0m\n\u001b[0;32m    720\u001b[0m             code \u001b[38;5;241m=\u001b[39m \u001b[38;5;124mf\u001b[39m\u001b[38;5;124m\"\u001b[39m\u001b[38;5;132;01m{\u001b[39;00mlist_len\u001b[38;5;132;01m}\u001b[39;00m\u001b[38;5;124m\"\u001b[39m\n\u001b[0;32m    721\u001b[0m         \u001b[38;5;28;01mreturn\u001b[39;00m code, aux_statements, \u001b[38;5;28;01mFalse\u001b[39;00m\n\u001b[1;32m--> 722\u001b[0m     \u001b[38;5;28;01mraise\u001b[39;00m TranspilerError(\u001b[38;5;124mf\u001b[39m\u001b[38;5;124m\"\u001b[39m\u001b[38;5;124munknown function \u001b[39m\u001b[38;5;124m'\u001b[39m\u001b[38;5;132;01m{\u001b[39;00mfun_name\u001b[38;5;132;01m}\u001b[39;00m\u001b[38;5;124m'\u001b[39m\u001b[38;5;124m\"\u001b[39m, ast_node\u001b[38;5;241m=\u001b[39mnode)\n\u001b[0;32m    723\u001b[0m \u001b[38;5;28;01melif\u001b[39;00m \u001b[38;5;28misinstance\u001b[39m(node, ast\u001b[38;5;241m.\u001b[39mCompare):\n\u001b[0;32m    724\u001b[0m     op_str \u001b[38;5;241m=\u001b[39m {\n\u001b[0;32m    725\u001b[0m         ast\u001b[38;5;241m.\u001b[39mEq: \u001b[38;5;124m\"\u001b[39m\u001b[38;5;124m==\u001b[39m\u001b[38;5;124m\"\u001b[39m,\n\u001b[0;32m    726\u001b[0m         ast\u001b[38;5;241m.\u001b[39mGt: \u001b[38;5;124m\"\u001b[39m\u001b[38;5;124m>\u001b[39m\u001b[38;5;124m\"\u001b[39m,\n\u001b[1;32m   (...)\u001b[0m\n\u001b[0;32m    730\u001b[0m         ast\u001b[38;5;241m.\u001b[39mNotEq: \u001b[38;5;124m\"\u001b[39m\u001b[38;5;124m!=\u001b[39m\u001b[38;5;124m\"\u001b[39m,\n\u001b[0;32m    731\u001b[0m     }\n",
      "\u001b[1;31mTranspilerError\u001b[0m: unknown function 'calcul_chemin' (line 43)"
     ]
    }
   ],
   "source": [
    "%%run_python\n",
    "\n",
    "\n",
    "speed0 = 100  # Vitesse nominale\n",
    "speedGain = 2  # Gain utilisé avec gradient de sol\n",
    "obstSpeedGain = [6, 4, -2, -6, -8]  # Gain /100 pour les capteurs de proximité\n",
    "timer_period[0] = 10  # Temps d'échantillonnage de 10ms\n",
    "p_new = [0, 0, 0]  # Position initiale [x, y, theta]\n",
    "p_old = [0, 0, 0]\n",
    "wheel_distance = 95  # Distance entre les roues en mm\n",
    "wheel_radius = 25  # Rayon des roues en mm\n",
    "\n",
    "# Initialisation des vitesses des moteurs\n",
    "spLeft = 0\n",
    "spRight = 0\n",
    "motor_left_target = 0\n",
    "motor_right_target = 0\n",
    "\n",
    "\n",
    "@onevent\n",
    "def timer0():\n",
    "    global p_new, p_old, motor_left_target, motor_right_target, spLeft, spRight\n",
    "    global speed0, speedGain, obstSpeedGain, prox_horizontal\n",
    "\n",
    "    # Sauvegarder la position précédente\n",
    "    p_old[0] = p_new[0]\n",
    "    p_old[1] = p_new[1]\n",
    "    p_old[2] = p_new[2]\n",
    "\n",
    "    # Simulation des vitesses des moteurs (valeurs actuelles des moteurs)\n",
    "    motor_left_speed = spLeft  # Vitesse gauche (en mm/s)\n",
    "    motor_right_speed = spRight  # Vitesse droite (en mm/s)\n",
    "    sampling_time = 10  # Intervalle de temps (en secondes)\n",
    "\n",
    "    # Distances parcourues par chaque roue\n",
    "    d_left = motor_left_speed * sampling_time\n",
    "    d_right = motor_right_speed * sampling_time\n",
    "\n",
    "    # Distance moyenne et changement d'orientation\n",
    "    d = (d_left + d_right) // 2\n",
    "    delta_theta = (d_right - d_left) // wheel_distance\n",
    "\n",
    "    # Mise à jour de la position\n",
    "    calcul_chemin(p_new,delta_theta,d)\n",
    "\n",
    "    # Calcul de la différence de position (exemple : suivi d'une ligne droite)\n",
    "    diffDelta = (p_new[0] + p_new[1]) - (p_old[0] + p_old[1])\n",
    "\n",
    "    # Ajustement des vitesses en fonction de la différence\n",
    "    spLeft = speed0 - speedGain * diffDelta\n",
    "    spRight = speed0 + speedGain * diffDelta\n",
    "\n",
    "    # Ajustement pour les obstacles\n",
    "    for i in range(5):\n",
    "        spLeft += prox_horizontal[i] * obstSpeedGain[i] // 100\n",
    "        spRight += prox_horizontal[i] * obstSpeedGain[4 - i] // 100\n",
    "\n",
    "    # Contrôle des moteurs\n",
    "    motor_left_target = spLeft\n",
    "    motor_right_target = spRight"
   ]
  },
  {
   "cell_type": "code",
   "execution_count": 93,
   "metadata": {
    "execution": {
     "iopub.execute_input": "2024-11-26T13:05:51.915688Z",
     "iopub.status.busy": "2024-11-26T13:05:51.915303Z",
     "iopub.status.idle": "2024-11-26T13:05:52.268328Z",
     "shell.execute_reply": "2024-11-26T13:05:52.267433Z",
     "shell.execute_reply.started": "2024-11-26T13:05:51.915664Z"
    }
   },
   "outputs": [],
   "source": [
    "%%run_python \n",
    "\n",
    "speed0 = 100  # Vitesse nominale\n",
    "speedGain = 2  # Gain utilisé avec gradient de sol\n",
    "obstSpeedGain = [6, 4, -2, -6, -8]  # Gain /100 pour les capteurs de proximité\n",
    "timer_period[0] = 1  # Temps d'échantillonnage de 10ms\n",
    "p_new = [0, 0, 0]  # Position initiale [x, y, theta]\n",
    "p_old = [0, 0, 0]\n",
    "wheel_distance = 95  # Distance entre les roues en mm\n",
    "wheel_radius = 25  # Rayon des roues en mm\n",
    "\n",
    "# Initialisation des vitesses des moteurs\n",
    "spLeft = 0\n",
    "spRight = 0\n",
    "motor_left_target = 0\n",
    "motor_right_target = 0\n",
    "evite = 0\n",
    "contournement = 0\n",
    "\n",
    "\n",
    "@onevent\n",
    "def timer0():\n",
    "    global p_new, p_old, motor_left_target, motor_right_target, spLeft, spRight\n",
    "    global speed0, speedGain, obstSpeedGain, prox_horizontal,contournement\n",
    "\n",
    "    spLeft = speed0\n",
    "    spRight = speed0\n",
    "    \n",
    "    if (prox_horizontal[0] >1000 or prox_horizontal[2] >1000 or prox_horizontal[4] >1000):\n",
    "        contournement = 1\n",
    "\n",
    "    if(contournement == 1):\n",
    "\n",
    "        if(prox_horizontal[0] >1000 and (prox_horizontal[1] > 500 or  prox_horizontal[2] > 500)):\n",
    "            spLeft = 100\n",
    "            spRight = -100\n",
    "\n",
    "        if (prox_horizontal[0] >1000 and prox_horizontal[1] < 500 and prox_horizontal[2] < 500):\n",
    "            spLeft = 100\n",
    "            spRight = 100\n",
    "        if (prox_horizontal[0] < 500 and prox_horizontal[1] < 500):\n",
    "            spLeft = -100\n",
    "            spRight = 100 \n",
    "         \n",
    "     # Sauvegarder la position précédente\n",
    "        p_old[0] = p_new[0]\n",
    "        p_old[1] = p_new[1]\n",
    "        p_old[2] = p_new[2]\n",
    "    \n",
    "        # Simulation des vitesses des moteurs (valeurs actuelles des moteurs)\n",
    "        motor_left_speed = spLeft  # Vitesse gauche (en mm/s)\n",
    "        motor_right_speed = spRight  # Vitesse droite (en mm/s)\n",
    "        sampling_time = 10  # Intervalle de temps (en secondes)\n",
    "    \n",
    "        # Distances parcourues par chaque roue\n",
    "        d_left = motor_left_speed * sampling_time//100\n",
    "        d_right = motor_right_speed * sampling_time//100\n",
    "    \n",
    "        # Distance moyenne et changement d'orientation\n",
    "        d = (d_left + d_right) // 2\n",
    "        delta_theta = (d_right - d_left) // wheel_distance\n",
    "    \n",
    "      \n",
    "    # Contrôle des moteurs\n",
    "    motor_left_target = spLeft\n",
    "    motor_right_target = spRight"
   ]
  },
  {
   "cell_type": "code",
   "execution_count": 94,
   "metadata": {},
   "outputs": [],
   "source": [
    "await tdmclient.notebook.stop()"
   ]
  },
  {
   "cell_type": "code",
   "execution_count": 83,
   "metadata": {
    "execution": {
     "iopub.execute_input": "2024-11-26T13:08:17.548958Z",
     "iopub.status.busy": "2024-11-26T13:08:17.547978Z",
     "iopub.status.idle": "2024-11-26T13:08:18.139378Z",
     "shell.execute_reply": "2024-11-26T13:08:18.138575Z",
     "shell.execute_reply.started": "2024-11-26T13:08:17.548913Z"
    }
   },
   "outputs": [],
   "source": [
    "%%run_python\n",
    "\n",
    "motor_right=0\n",
    "motor_left=0"
   ]
  },
  {
   "cell_type": "code",
   "execution_count": null,
   "metadata": {},
   "outputs": [],
   "source": []
  },
  {
   "cell_type": "code",
   "execution_count": 33,
   "metadata": {},
   "outputs": [
    {
     "data": {
      "text/plain": [
       "Node 36f3ed57-04fa-49b6-bfb6-33b3ff60d879"
      ]
     },
     "execution_count": 33,
     "metadata": {},
     "output_type": "execute_result"
    }
   ],
   "source": [
    "from tdmclient import ClientAsync, aw\n",
    "client = ClientAsync()\n",
    "client.process_waiting_messages()\n",
    "node = await client.wait_for_node()\n",
    "await node.lock()\n"
   ]
  },
  {
   "cell_type": "code",
   "execution_count": 42,
   "metadata": {},
   "outputs": [],
   "source": [
    "import cv2 \n",
    "import time\n",
    "import numpy as np\n",
    "from PIL import Image \n",
    "import math\n",
    "import matplotlib\n",
    "from matplotlib.pyplot import imshow\n",
    "from matplotlib import pyplot as plt\n",
    "import motion_control as mctrl\n",
    "import control as ctrl\n",
    "import localavoidance as lav"
   ]
  },
  {
   "cell_type": "code",
   "execution_count": 43,
   "metadata": {},
   "outputs": [
    {
     "ename": "TypeError",
     "evalue": "unsupported operand type(s) for -: 'ClientAsyncCacheNode' and 'int'",
     "output_type": "error",
     "traceback": [
      "\u001b[1;31m---------------------------------------------------------------------------\u001b[0m",
      "\u001b[1;31mTypeError\u001b[0m                                 Traceback (most recent call last)",
      "Cell \u001b[1;32mIn[43], line 3\u001b[0m\n\u001b[0;32m      1\u001b[0m \u001b[38;5;28;01mfor\u001b[39;00m _ \u001b[38;5;129;01min\u001b[39;00m \u001b[38;5;28mrange\u001b[39m(\u001b[38;5;241m8\u001b[39m):\n\u001b[1;32m----> 3\u001b[0m    \u001b[43mmctrl\u001b[49m\u001b[38;5;241;43m.\u001b[39;49m\u001b[43mgo_to_point\u001b[49m\u001b[43m(\u001b[49m\u001b[38;5;241;43m40\u001b[39;49m\u001b[43m,\u001b[49m\u001b[38;5;241;43m30\u001b[39;49m\u001b[43m,\u001b[49m\u001b[38;5;241;43m0\u001b[39;49m\u001b[43m,\u001b[49m\u001b[38;5;241;43m2\u001b[39;49m\u001b[43m,\u001b[49m\u001b[38;5;241;43m1\u001b[39;49m\u001b[43m,\u001b[49m\u001b[43mnode\u001b[49m\u001b[43m)\u001b[49m\n\u001b[0;32m      4\u001b[0m time\u001b[38;5;241m.\u001b[39msleep(\u001b[38;5;241m1\u001b[39m)\n",
      "File \u001b[1;32mc:\\Users\\johan\\Documents\\EPFL étude\\MA1\\basics of mobile robotics\\ProjectRobotiqueMaster\\src\\motion_control.py:39\u001b[0m, in \u001b[0;36mgo_to_point\u001b[1;34m(self, x, y, theta, x_goal, y_goal)\u001b[0m\n\u001b[0;32m     37\u001b[0m \u001b[38;5;28;01mdef\u001b[39;00m \u001b[38;5;21mgo_to_point\u001b[39m (\u001b[38;5;28mself\u001b[39m,x,y,theta,x_goal,y_goal):\n\u001b[1;32m---> 39\u001b[0m     [v,omega] \u001b[38;5;241m=\u001b[39m \u001b[43mfind_how_go\u001b[49m\u001b[43m \u001b[49m\u001b[43m(\u001b[49m\u001b[38;5;28;43mself\u001b[39;49m\u001b[43m,\u001b[49m\u001b[43mx\u001b[49m\u001b[43m,\u001b[49m\u001b[43my\u001b[49m\u001b[43m,\u001b[49m\u001b[43mtheta\u001b[49m\u001b[43m,\u001b[49m\u001b[43mx_goal\u001b[49m\u001b[43m,\u001b[49m\u001b[43my_goal\u001b[49m\u001b[43m)\u001b[49m\n\u001b[0;32m     41\u001b[0m     v_left \u001b[38;5;241m=\u001b[39m v \u001b[38;5;241m-\u001b[39m (omega \u001b[38;5;241m*\u001b[39m \u001b[38;5;28mself\u001b[39m\u001b[38;5;241m.\u001b[39mwheel_base \u001b[38;5;241m/\u001b[39m \u001b[38;5;241m2\u001b[39m)\n\u001b[0;32m     42\u001b[0m     v_right \u001b[38;5;241m=\u001b[39m v \u001b[38;5;241m+\u001b[39m (omega \u001b[38;5;241m*\u001b[39m \u001b[38;5;28mself\u001b[39m\u001b[38;5;241m.\u001b[39mwheel_base \u001b[38;5;241m/\u001b[39m \u001b[38;5;241m2\u001b[39m)\n",
      "File \u001b[1;32mc:\\Users\\johan\\Documents\\EPFL étude\\MA1\\basics of mobile robotics\\ProjectRobotiqueMaster\\src\\motion_control.py:20\u001b[0m, in \u001b[0;36mfind_how_go\u001b[1;34m(self, x, y, theta, x_goal, y_goal)\u001b[0m\n\u001b[0;32m     17\u001b[0m \u001b[38;5;28;01mdef\u001b[39;00m \u001b[38;5;21mfind_how_go\u001b[39m (x,y,theta,x_goal,y_goal):\n\u001b[0;32m     19\u001b[0m     dx \u001b[38;5;241m=\u001b[39m x_goal \u001b[38;5;241m-\u001b[39m x\n\u001b[1;32m---> 20\u001b[0m     dy \u001b[38;5;241m=\u001b[39m \u001b[43my_goal\u001b[49m\u001b[43m \u001b[49m\u001b[38;5;241;43m-\u001b[39;49m\u001b[43m \u001b[49m\u001b[43my\u001b[49m\n\u001b[0;32m     22\u001b[0m     \u001b[38;5;66;03m# Conversion en coordonnées polaires\u001b[39;00m\n\u001b[0;32m     23\u001b[0m     rho \u001b[38;5;241m=\u001b[39m np\u001b[38;5;241m.\u001b[39msqrt(dx\u001b[38;5;241m*\u001b[39m\u001b[38;5;241m*\u001b[39m\u001b[38;5;241m2\u001b[39m \u001b[38;5;241m+\u001b[39m dy\u001b[38;5;241m*\u001b[39m\u001b[38;5;241m*\u001b[39m\u001b[38;5;241m2\u001b[39m)  \u001b[38;5;66;03m# Distance à l'objectif\u001b[39;00m\n",
      "\u001b[1;31mTypeError\u001b[0m: unsupported operand type(s) for -: 'ClientAsyncCacheNode' and 'int'"
     ]
    }
   ],
   "source": [
    "\n",
    "for _ in range(8):\n",
    "    \n",
    "   mctrl.go_to_point(40,30,0,2,1,node)\n",
    "time.sleep(1)\n",
    "\n"
   ]
  },
  {
   "cell_type": "code",
   "execution_count": null,
   "metadata": {},
   "outputs": [],
   "source": []
  }
 ],
 "metadata": {
  "hide_input": false,
  "kernelspec": {
   "display_name": "Python 3",
   "language": "python",
   "name": "python3"
  },
  "language_info": {
   "codemirror_mode": {
    "name": "ipython",
    "version": 3
   },
   "file_extension": ".py",
   "mimetype": "text/x-python",
   "name": "python",
   "nbconvert_exporter": "python",
   "pygments_lexer": "ipython3",
   "version": "3.13.0"
  },
  "toc": {
   "base_numbering": 1,
   "nav_menu": {},
   "number_sections": true,
   "sideBar": true,
   "skip_h1_title": false,
   "title_cell": "Table of Contents",
   "title_sidebar": "Contents",
   "toc_cell": true,
   "toc_position": {},
   "toc_section_display": true,
   "toc_window_display": false
  }
 },
 "nbformat": 4,
 "nbformat_minor": 4
}
