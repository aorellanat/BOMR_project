{
 "cells": [
  {
   "cell_type": "code",
   "execution_count": null,
   "metadata": {},
   "outputs": [],
   "source": [
    "import numpy as np\n",
    "import matplotlib.pyplot as plt\n",
    "import cv2"
   ]
  },
  {
   "cell_type": "markdown",
   "metadata": {},
   "source": [
    "# COMPUTATION"
   ]
  },
  {
   "cell_type": "code",
   "execution_count": null,
   "metadata": {},
   "outputs": [],
   "source": [
    "###################################### import data from CV            #########################################################################################################################################\n",
    "Starting_node=0              ### index OF THE START AND GOAL\n",
    "Arrival_node=1\n",
    "Nodes=np.array([[97, 364],[636, 431], [504, 400], [529, 517], [294, 563], [271, 445], [579,  73], [678, 295], [560, 345], [464, 121], [356,  76], [384, 182], [156, 244], [128, 137]])\n",
    "Mask = cv2.imread(\"python_djikstra/mask_obstacles.png\", cv2.IMREAD_COLOR)  ###### DATA FOR MASK (OBSTACLES)\n",
    "Threshold=1 ### potential use is we observe a mask that is uncorrect, with parasitic lines for ex.\n",
    "###################################### end from CV        #####################################################################################################################################################\n",
    "\n",
    "\n",
    "####################################### Start Djikstra - calculate connectivity and distances \n",
    "Number_nodes = len(Nodes)\n",
    "Connectivity_matrix = np.zeros((Number_nodes, Number_nodes), dtype=bool)      ##Connectivity_matrix[i, j] = 1 means i connected to j !!!!!!!!!!!!!!!!! i<j !!!!!!!!!! Matrix verifying if i and j are connected. 1 ou 0 (triangulaire supperieure)\n",
    "Distance_between_nodes = np.full((Number_nodes, Number_nodes), np.inf)  #Initialise distances at infinity, to be changed.Also a matrice that is triangular supperior. The diagonal should be 0, but since we don't use it we don't lose time doing it\n",
    "\n",
    "for j in range(Number_nodes):\n",
    "    for i in range(j):        #Connectivity_matrix[i, j] = 1 means i connected to j !!!!!!!!!!!!!!!!! i<j !!!!!!!!!!    i in range(j) compared to i in range(Number_nodes) increases the speed by two.\n",
    "        Blank_img=np.zeros(shape=Mask.shape, dtype=np.uint8)   #(https://medium.com/jungletronics/opencv-image-basics-2e63d973851a) # Blank image for addinf segment\n",
    "        cv2.line(Blank_img,Nodes[i],Nodes[j],(127,127,127),1)\n",
    "        if(np.sum(cv2.bitwise_and(Blank_img, Mask))<=Threshold):\n",
    "            Connectivity_matrix[i,j]=True\n",
    "            Distance_between_nodes[i,j] = np.linalg.norm(Nodes[i]-Nodes[j])\n",
    "\n",
    "######################################## Backtracking Initialisation   (https://www.freecodecamp.org/news/dijkstras-algorithm-explained-with-a-pseudocode-example/)\n",
    "Visited_nodes = np.zeros(Number_nodes, dtype=bool)         ## what nodes are already treated\n",
    "Distance_from_start = np.full(Number_nodes, np.inf)     ####calculate distance fromm start for each node\n",
    "Distance_from_start[Starting_node]=0                    ### set the starting node to 0\n",
    "Previous = np.full((Number_nodes,), np.nan)   ## for each node know the previous node\n",
    "Previous[Starting_node]=Starting_node\n",
    "\n",
    "#######################################  Backtracking    \n",
    "Unvisited_nodes = np.where(Visited_nodes == False)[0]\n",
    "while Visited_nodes[Arrival_node]!=True:\n",
    "        Unvisited_nodes = np.where(Visited_nodes == False)[0]           ## unvisited indices\n",
    "        Actual_node = Unvisited_nodes[np.argmin(Distance_from_start[Unvisited_nodes])]  ##minimal distance of the unvisited \n",
    "        for Neighbour_node in range(Number_nodes):   ##Comparaison avec d'autres noeuds accessibles\n",
    "                if Connectivity_matrix[min(Neighbour_node, Actual_node), max(Neighbour_node, Actual_node)] == True:\n",
    "                        if (Distance_from_start[Neighbour_node]> Distance_from_start[Actual_node] + Distance_between_nodes[min(Neighbour_node,Actual_node),max(Neighbour_node,Actual_node)]):\n",
    "                                Distance_from_start[Neighbour_node]= Distance_from_start[Actual_node] + Distance_between_nodes[min(Neighbour_node,Actual_node),max(Neighbour_node,Actual_node)]         \n",
    "                                Previous[Neighbour_node]=Actual_node\n",
    "        Visited_nodes[Actual_node] = True\n",
    "\n",
    "######################################   GENERATE OUTPUT vector \n",
    "Global_path = Nodes[Arrival_node]\n",
    "Actual_node = Arrival_node\n",
    "while Actual_node!=Starting_node:                                                               ####looks at the end, what is previous node of actual, previous of previous etc....\n",
    "    Global_path = np.vstack([Global_path, Nodes[int(Previous[Actual_node])]]) \n",
    "    Actual_node= int(Previous[Actual_node])"
   ]
  },
  {
   "cell_type": "markdown",
   "metadata": {},
   "source": [
    "# PLOTTING and output vector"
   ]
  },
  {
   "cell_type": "code",
   "execution_count": null,
   "metadata": {},
   "outputs": [],
   "source": [
    "################################################################################ PLOT\n",
    "#Image = cv2.imread(\"python_djikstra/Camera.png\", cv2.IMREAD_COLOR)\n",
    "plt.imshow(Mask)\n",
    "for j in range(Number_nodes):\n",
    "    for i in range(j):        #Connectivity_matrix[i, j] = 1 means i connected to j !!!!!!!!!!!!!!!!! i<j !!!!!!!!!!\n",
    "        if Connectivity_matrix[i,j] == 1:\n",
    "                plt.plot((Nodes[i,0],Nodes[j,0]), (Nodes[i,1],Nodes[j,1]), '--b')\n",
    "for i in range(Number_nodes):\n",
    "    plt.plot(Nodes[i,0],Nodes[i,1],'mo') \n",
    "    plt.text(Nodes[i,0]+0.5,Nodes[i,1]+0.5, str(i), color=\"gray\", fontsize=12)\n",
    "\n",
    "Actual_node = Arrival_node\n",
    "while Actual_node!=Starting_node:\n",
    "    plt.plot((Nodes[Actual_node,0],Nodes[int(Previous[Actual_node]),0]), (Nodes[Actual_node,1],Nodes[int(Previous[Actual_node]),1]), '-r')\n",
    "    Actual_node= int(Previous[Actual_node])\n",
    "plt.plot(Nodes[Starting_node,0],Nodes[Starting_node,1],'bo',markersize=15)          ###Start node\n",
    "plt.plot(Nodes[Arrival_node,0],Nodes[Arrival_node,1],'ro',markersize=15)            #### goal node\n",
    "print(\"Global_path, end is first:\")\n",
    "print(Global_path)"
   ]
  },
  {
   "cell_type": "markdown",
   "metadata": {},
   "source": [
    "### Comments:\n",
    "- the mask has to be in the same folder as this notebook. otherwise change on the second cell at the start.\n",
    "- ensure CV compatibility\n",
    "- ensure output is ok for who is concerned"
   ]
  },
  {
   "cell_type": "markdown",
   "metadata": {},
   "source": []
  },
  {
   "cell_type": "markdown",
   "metadata": {},
   "source": []
  }
 ],
 "metadata": {
  "kernelspec": {
   "display_name": "Python 3",
   "language": "python",
   "name": "python3"
  },
  "language_info": {
   "codemirror_mode": {
    "name": "ipython",
    "version": 3
   },
   "file_extension": ".py",
   "mimetype": "text/x-python",
   "name": "python",
   "nbconvert_exporter": "python",
   "pygments_lexer": "ipython3",
   "version": "3.11.9"
  }
 },
 "nbformat": 4,
 "nbformat_minor": 2
}
