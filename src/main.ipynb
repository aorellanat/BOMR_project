{
 "cells": [
  {
   "cell_type": "code",
   "execution_count": 1,
   "metadata": {},
   "outputs": [],
   "source": [
    "# rough skeleton for our main ftn\n",
    "\n",
    "from tdmclient import ClientAsync, aw\n",
    "from cv import *\n",
    "from kalman import *\n",
    "from motion_control import *\n",
    "from utils import *\n",
    "from path_planning import *\n",
    "import time\n",
    "from threading import Timer\n",
    "from collections import deque\n",
    "\n",
    "\n",
    "def motors(left, right):\n",
    "    return {\n",
    "        \"motor.left.target\": [left],\n",
    "        \"motor.right.target\": [right],\n",
    "    }\n",
    "\n",
    "def get_data():\n",
    "    aw(node.wait_for_variables({\"motor.left.speed\",\"motor.right.speed\", \"acc\", \"prox.horizontal\"}))\n",
    "    return [node[\"motor.left.speed\"],\n",
    "            node[\"motor.right.speed\"],\n",
    "            list(node[\"acc\"]),\n",
    "            list(node[\"prox.horizontal\"])]"
   ]
  },
  {
   "cell_type": "code",
   "execution_count": 3,
   "metadata": {},
   "outputs": [
    {
     "data": {
      "text/plain": [
       "Node 310bffb3-c918-41d5-957e-fe37de1934e6"
      ]
     },
     "execution_count": 3,
     "metadata": {},
     "output_type": "execute_result"
    }
   ],
   "source": [
    "#connect to thymio\n",
    "client = ClientAsync()\n",
    "node = await client.wait_for_node()\n",
    "await node.lock()"
   ]
  },
  {
   "cell_type": "code",
   "execution_count": null,
   "metadata": {},
   "outputs": [
    {
     "name": "stdout",
     "output_type": "stream",
     "text": [
      "Detecting map...\n",
      "Number of obstacles: 0\n",
      "It was not possible to detect the path planning. Thymio: False, Goal: None\n"
     ]
    },
    {
     "ename": "UnboundLocalError",
     "evalue": "cannot access local variable 'path' where it is not associated with a value",
     "output_type": "error",
     "traceback": [
      "\u001b[1;31m---------------------------------------------------------------------------\u001b[0m",
      "\u001b[1;31mUnboundLocalError\u001b[0m                         Traceback (most recent call last)",
      "Cell \u001b[1;32mIn[3], line 10\u001b[0m\n\u001b[0;32m      8\u001b[0m \u001b[38;5;66;03m# TODO:connect to camera\u001b[39;00m\n\u001b[0;32m      9\u001b[0m computer_vision \u001b[38;5;241m=\u001b[39m ComputerVision()\n\u001b[1;32m---> 10\u001b[0m global_path \u001b[38;5;241m=\u001b[39m computer_vision\u001b[38;5;241m.\u001b[39mmap_obstacle_detection()\n\u001b[0;32m     12\u001b[0m \u001b[38;5;66;03m# initialize ekf with information from cv\u001b[39;00m\n\u001b[0;32m     13\u001b[0m ekf \u001b[38;5;241m=\u001b[39m ExtendedKalmanFilter(state_dim, measurement_dim, control_dim,dt)\n",
      "File \u001b[1;32md:\\jiwon\\EPFL\\24F\\Mobile robotics\\PROJECT\\ProjectRobotiqueMaster\\src\\computer_vision.py:220\u001b[0m, in \u001b[0;36mComputerVision.map_obstacle_detection\u001b[1;34m(self)\u001b[0m\n\u001b[0;32m    216\u001b[0m \u001b[38;5;28;01melse\u001b[39;00m:\n\u001b[0;32m    217\u001b[0m     \u001b[38;5;28mprint\u001b[39m(\u001b[38;5;124mf\u001b[39m\u001b[38;5;124m'\u001b[39m\u001b[38;5;124mIt was not possible to detect the path planning. Thymio: \u001b[39m\u001b[38;5;132;01m{\u001b[39;00mthymio_found\u001b[38;5;132;01m}\u001b[39;00m\u001b[38;5;124m, Goal: \u001b[39m\u001b[38;5;132;01m{\u001b[39;00mgoal_coords\u001b[38;5;132;01m}\u001b[39;00m\u001b[38;5;124m'\u001b[39m)\n\u001b[1;32m--> 220\u001b[0m \u001b[38;5;28;01mif\u001b[39;00m \u001b[38;5;28mlen\u001b[39m(path) \u001b[38;5;241m>\u001b[39m \u001b[38;5;241m0\u001b[39m:\n\u001b[0;32m    221\u001b[0m     draw_path(path, map_frame)\n\u001b[0;32m    223\u001b[0m \u001b[38;5;66;03m# Reshape map before display it\u001b[39;00m\n",
      "\u001b[1;31mUnboundLocalError\u001b[0m: cannot access local variable 'path' where it is not associated with a value"
     ]
    }
   ],
   "source": [
    "#main loop\n",
    "#set parameters here\n",
    "dt = 0.1\n",
    "epsilon = 0.7 # to check if thymio is close enough to next target\n",
    "state_dim=5\n",
    "measurement_dim=5\n",
    "control_dim=2\n",
    "\n",
    "# initialize ekf with information from cv\n",
    "ekf = ExtendedKalmanFilter(state_dim, measurement_dim, control_dim,dt)\n",
    "camera_blocked = True\n",
    "initial_state = np.array([0,0,np.pi/2,0,0]) # x,y,theta,v,w\n",
    "ekf.initialize_X(initial_state)\n",
    "\n",
    "mc = motion_controller()\n",
    "# main loop\n",
    "next_target = global_path.popleft()\n",
    "print(f\"next_target = {next_target[0]}, {next_target[1]}\")\n",
    "target_reached = False\n",
    "counter = 0\n",
    "start_time = time.time()\n",
    "while (True):\n",
    "    #TODO: get data from camera(thymio_found, x, y, theta)\n",
    "    thymio_found, x_camera, y_camera, theta_camera = computer_vision.get_thymio_info()\n",
    "    camera_blocked = not thymio_found\n",
    "\n",
    "    ekf.switch_mode(camera_blocked)\n",
    "\n",
    "    data = get_data()\n",
    "    ul = data[0]\n",
    "    ur = data[1]\n",
    "    acc_z = data[2][2]\n",
    "    prox_horizontal = data[3]\n",
    "\n",
    "    v,w = from_u_to_vw(ul, ur)\n",
    "    u = np.array([v,w])\n",
    "    z = np.array([x_camera, y_camera, theta_camera, v, w])\n",
    "\n",
    "    #if kidnapping detected(from acceleration), stop for 3 sec, compute global path again, continue;\n",
    "    if abs(acc_z - 22) > 3: # sudden change in acc_z indicates kidnapping\n",
    "        print(\"kidnapping detected\")\n",
    "        node.send_set_variables(motors(0,0))\n",
    "        await client.sleep(3)\n",
    "        #TODO: compute new global path\n",
    "        global_path = computer_vision.map_obstacle_detection()\n",
    "        next_target = global_path.popleft()\n",
    "        continue\n",
    "\n",
    "    # updating thymio state, obviously\n",
    "    ekf.predict_and_update(u,z)\n",
    "    x,y,theta,v,w = ekf.get_X()\n",
    "    if counter % 15 == 0:\n",
    "        print(f\"state = {x:.2f}, {y:.2f}, {theta:.2f}, {v:.2f}, {w:.2f}\")\n",
    "    \n",
    "    #  check if next_target is reached\n",
    "    target_reached = np.linalg.norm(np.array([x - next_target[0], y - next_target[1]])) < epsilon\n",
    "    if target_reached:\n",
    "        if len(global_path)==0:\n",
    "            print(\"goal reached, terminating\")\n",
    "            break\n",
    "        else:\n",
    "            print(\"heading towards next waypoint\")\n",
    "            next_target = global_path.popleft()\n",
    "            print(f\"next_target = {next_target[0]}, {next_target[1]}\")\n",
    "\n",
    "    #in the end, should return desired v and w\n",
    "    mc.set_mode(prox_horizontal, x, y, theta)\n",
    "    ul, ur = mc.compute_control(x,y,theta,next_target[0], next_target[1], prox_horizontal)\n",
    "    node.send_set_variables(motors(ul, ur))\n",
    "    await client.sleep(dt)\n",
    "    counter += 1\n",
    "\n",
    "    # whatever happens, stop after 120 sec\n",
    "    elapsed_time = time.time() - start_time\n",
    "    if elapsed_time > 120:\n",
    "        break\n",
    "\n",
    "# stop thymio\n",
    "node.send_set_variables(motors(0,0))\n",
    "await node.unlock()"
   ]
  },
  {
   "cell_type": "code",
   "execution_count": 2,
   "metadata": {},
   "outputs": [
    {
     "data": {
      "text/plain": [
       "0.5"
      ]
     },
     "execution_count": 2,
     "metadata": {},
     "output_type": "execute_result"
    }
   ],
   "source": [
    "a = [[1,2], [3,4]]\n",
    "def half(X):\n",
    "    x,y = X\n",
    "    return 0.5*x, 0.5*y\n",
    "b = [half(t) for t in a]\n",
    "b[0][0]"
   ]
  }
 ],
 "metadata": {
  "kernelspec": {
   "display_name": "lr24",
   "language": "python",
   "name": "python3"
  },
  "language_info": {
   "codemirror_mode": {
    "name": "ipython",
    "version": 3
   },
   "file_extension": ".py",
   "mimetype": "text/x-python",
   "name": "python",
   "nbconvert_exporter": "python",
   "pygments_lexer": "ipython3",
   "version": "3.12.3"
  }
 },
 "nbformat": 4,
 "nbformat_minor": 2
}
