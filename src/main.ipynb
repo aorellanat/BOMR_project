{
 "cells": [
  {
   "cell_type": "code",
   "execution_count": 21,
   "metadata": {},
   "outputs": [],
   "source": [
    "# rough skeleton for our main ftn\n",
    "\n",
    "from tdmclient import ClientAsync, aw\n",
    "from cv import *\n",
    "from kalman import *\n",
    "from motion_control import *\n",
    "from utils import *\n",
    "from path_planning import *\n",
    "# and other imports\n",
    "\n",
    "# repeated timer to get data from thymio(velocity, acceleration, proximity sensor)\n",
    "from threading import Timer\n",
    "from collections import deque\n",
    "class RepeatedTimer(object):\n",
    "    def __init__(self, interval, function, *args, **kwargs):\n",
    "        self._timer     = None\n",
    "        self.interval   = interval\n",
    "        self.function   = function\n",
    "        self.args       = args\n",
    "        self.kwargs     = kwargs\n",
    "        self.is_running = False\n",
    "        self.start()\n",
    "\n",
    "    def _run(self):\n",
    "        self.is_running = False\n",
    "        self.start()\n",
    "        self.function(*self.args, **self.kwargs)\n",
    "\n",
    "    def start(self):\n",
    "        if not self.is_running:\n",
    "            self._timer = Timer(self.interval, self._run)\n",
    "            self._timer.start()\n",
    "            self.is_running = True\n",
    "\n",
    "    def stop(self):\n",
    "        self._timer.cancel()\n",
    "        self.is_running = False\n",
    "\n",
    "\n",
    "def motors(left, right):\n",
    "    return {\n",
    "        \"motor.left.target\": [left],\n",
    "        \"motor.right.target\": [right],\n",
    "    }\n",
    "\n",
    "def get_data():\n",
    "    aw(node.wait_for_variables({\"motor.left.speed\",\"motor.right.speed\", \"acc\"}))\n",
    "    return [node[\"motor.left.speed\"],\n",
    "            node[\"motor.right.speed\"],\n",
    "            list(node[\"acc\"])]"
   ]
  },
  {
   "cell_type": "code",
   "execution_count": 44,
   "metadata": {},
   "outputs": [],
   "source": [
    "def simple_controller(x,y,theta, target_x, target_y):\n",
    "    dx = target_x - x\n",
    "    dy = target_y - y\n",
    "    desired_theta = np.arctan2(dy, dx)\n",
    "    dtheta = (desired_theta - theta + np.pi)% (2*np.pi) - np.pi\n",
    "    if abs(dtheta) > 5*np.pi / 180: # abs(dtheta) larger than 3 degree\n",
    "        v_ = 0\n",
    "        w_ = np.sign(dtheta)*10*np.pi/180\n",
    "    else:\n",
    "        v_ = 1.5\n",
    "        w_ = 0\n",
    "    return v_, w_"
   ]
  },
  {
   "cell_type": "code",
   "execution_count": 17,
   "metadata": {},
   "outputs": [
    {
     "data": {
      "text/plain": [
       "Node 310bffb3-c918-41d5-957e-fe37de1934e6"
      ]
     },
     "execution_count": 17,
     "metadata": {},
     "output_type": "execute_result"
    }
   ],
   "source": [
    "#connect to thymio\n",
    "client = ClientAsync()\n",
    "node = await client.wait_for_node()\n",
    "await node.lock()"
   ]
  },
  {
   "cell_type": "code",
   "execution_count": null,
   "metadata": {},
   "outputs": [
    {
     "name": "stdout",
     "output_type": "stream",
     "text": [
      "next_target = 0, 10\n",
      "state = -0.00, -0.00, 1.57, 0.36, -0.08\n",
      "state = -0.00, 0.94, 1.57, 1.53, -0.01\n",
      "kidnapping detected\n",
      "state = 0.02, 2.52, 1.56, 1.50, 0.01\n",
      "state = 0.03, 4.04, 1.56, 1.45, -0.00\n",
      "state = 0.05, 5.44, 1.56, 1.43, 0.01\n",
      "state = 0.06, 6.90, 1.56, 1.37, -0.01\n",
      "state = 0.07, 8.32, 1.57, 1.35, 0.01\n",
      "heading towards next waypoint\n",
      "next_target = 10, 10\n",
      "state = 0.07, 9.66, 1.57, -0.00, -0.00\n",
      "state = 0.07, 9.76, 1.44, 0.02, -0.17\n",
      "state = 0.07, 9.75, 1.28, 0.02, -0.15\n",
      "state = 0.08, 9.77, 1.12, -0.07, -0.18\n",
      "state = 0.08, 9.77, 0.95, -0.08, -0.16\n",
      "state = 0.07, 9.76, 0.79, -0.02, -0.15\n",
      "state = 0.05, 9.74, 0.63, -0.02, -0.18\n",
      "state = 0.02, 9.72, 0.46, -0.05, -0.17\n"
     ]
    },
    {
     "ename": "CancelledError",
     "evalue": "",
     "output_type": "error",
     "traceback": [
      "\u001b[1;31m---------------------------------------------------------------------------\u001b[0m",
      "\u001b[1;31mCancelledError\u001b[0m                            Traceback (most recent call last)",
      "Cell \u001b[1;32mIn[46], line 60\u001b[0m\n\u001b[0;32m     58\u001b[0m ul, ur \u001b[38;5;241m=\u001b[39m from_vw_to_u(v,w)\n\u001b[0;32m     59\u001b[0m node\u001b[38;5;241m.\u001b[39msend_set_variables(motors(ul, ur))\n\u001b[1;32m---> 60\u001b[0m \u001b[38;5;28;01mawait\u001b[39;00m client\u001b[38;5;241m.\u001b[39msleep(dt)\n\u001b[0;32m     61\u001b[0m counter \u001b[38;5;241m+\u001b[39m\u001b[38;5;241m=\u001b[39m \u001b[38;5;241m1\u001b[39m\n",
      "File \u001b[1;32md:\\jiwon\\anaconda3\\envs\\lr24\\Lib\\site-packages\\tdmclient\\clientasync.py:73\u001b[0m, in \u001b[0;36mClientAsync.sleep\u001b[1;34m(self, duration, wake)\u001b[0m\n\u001b[0;32m     71\u001b[0m \u001b[38;5;28;01mif\u001b[39;00m wake \u001b[38;5;129;01mis\u001b[39;00m \u001b[38;5;129;01mnot\u001b[39;00m \u001b[38;5;28;01mNone\u001b[39;00m \u001b[38;5;129;01mand\u001b[39;00m wake():\n\u001b[0;32m     72\u001b[0m     \u001b[38;5;28;01mbreak\u001b[39;00m\n\u001b[1;32m---> 73\u001b[0m \u001b[38;5;28;01myield\u001b[39;00m\n",
      "\u001b[1;31mCancelledError\u001b[0m: "
     ]
    }
   ],
   "source": [
    "dt = 0.1\n",
    "epsilon = 0.7\n",
    "# connect to camera, initialize map, compute global path\n",
    "# initialize() function\n",
    "global_path = deque()\n",
    "global_path.append([0,10])\n",
    "global_path.append([10,10])\n",
    "global_path.append([10,0]) \n",
    "ekf = ExtendedKalmanFilter(5,5,2,dt)\n",
    "camera_blocked = True\n",
    "initial_state = np.array([0,0,np.pi/2,0,0])\n",
    "ekf.initialize_X(initial_state)\n",
    "\n",
    "# main loop\n",
    "next_target = global_path.popleft()\n",
    "print(f\"next_target = {next_target[0]}, {next_target[1]}\")\n",
    "target_reached = False\n",
    "counter = 0\n",
    "while (True):\n",
    "    #get data from camera(thymio_found, x, y, theta)\n",
    "    thymio_found, x_camera, y_camera, theta_camera = False, 0,0,0\n",
    "    camera_blocked = not thymio_found\n",
    "    ekf.switch_mode(camera_blocked)\n",
    "\n",
    "    #get data from thymio(proximity, acceleration, motor speed)\n",
    "    data = get_data()\n",
    "    ul = data[0]\n",
    "    ur = data[1]\n",
    "    acc_z = data[2][2]\n",
    "    v,w = from_u_to_vw(ul, ur)\n",
    "    u = np.array([v,w])\n",
    "    z = np.array([x_camera, y_camera, theta_camera, v, w])\n",
    "    #if kidnapping detected(from acceleration), compute global path again, initialize ekf again, continue;\n",
    "    if abs(acc_z - 22) > 3: # sudden change in acc_z indicates kidnapping\n",
    "        print(\"kidnapping detected\")\n",
    "        node.send_set_variables(motors(0,0))\n",
    "        await client.sleep(3)\n",
    "        # call initialize()\n",
    "        continue\n",
    "\n",
    "    ekf.predict_and_update(u,z)\n",
    "    x,y,theta,v,w = ekf.get_X()\n",
    "    if counter % 10 == 0:\n",
    "        print(f\"state = {x:.2f}, {y:.2f}, {theta:.2f}, {v:.2f}, {w:.2f}\")\n",
    "    #  check if goal is reached\n",
    "    target_reached = np.linalg.norm(np.array([x - next_target[0], y - next_target[1]])) < epsilon\n",
    "    if target_reached:\n",
    "        if len(global_path)==0:\n",
    "            print(\"goal reached, terminating\")\n",
    "            node.send_set_variables(motors(0,0))\n",
    "            break\n",
    "        else:\n",
    "            print(\"heading towards next waypoint\")\n",
    "            next_target = global_path.popleft()\n",
    "            print(f\"next_target = {next_target[0]}, {next_target[1]}\")\n",
    "\n",
    "    # replace with proper motion control\n",
    "    v,w = simple_controller(x,y,theta, next_target[0], next_target[1])\n",
    "    ul, ur = from_vw_to_u(v,w)\n",
    "    node.send_set_variables(motors(ul, ur))\n",
    "    await client.sleep(dt)\n",
    "    counter += 1\n"
   ]
  },
  {
   "cell_type": "code",
   "execution_count": 43,
   "metadata": {},
   "outputs": [],
   "source": [
    " node.send_set_variables(motors(0,0))"
   ]
  },
  {
   "cell_type": "code",
   "execution_count": 15,
   "metadata": {},
   "outputs": [
    {
     "ename": "ConnectionResetError",
     "evalue": "[WinError 10054] An existing connection was forcibly closed by the remote host",
     "output_type": "error",
     "traceback": [
      "\u001b[1;31m---------------------------------------------------------------------------\u001b[0m",
      "\u001b[1;31mConnectionResetError\u001b[0m                      Traceback (most recent call last)",
      "Cell \u001b[1;32mIn[15], line 1\u001b[0m\n\u001b[1;32m----> 1\u001b[0m \u001b[38;5;28;01mawait\u001b[39;00m node\u001b[38;5;241m.\u001b[39munlock()\n",
      "File \u001b[1;32md:\\jiwon\\anaconda3\\envs\\lr24\\Lib\\site-packages\\tdmclient\\clientasyncnode.py:46\u001b[0m, in \u001b[0;36mClientAsyncNode.unlock\u001b[1;34m(self)\u001b[0m\n\u001b[0;32m     44\u001b[0m \u001b[38;5;129m@types\u001b[39m\u001b[38;5;241m.\u001b[39mcoroutine\n\u001b[0;32m     45\u001b[0m \u001b[38;5;28;01mdef\u001b[39;00m \u001b[38;5;21munlock\u001b[39m(\u001b[38;5;28mself\u001b[39m):\n\u001b[1;32m---> 46\u001b[0m     result \u001b[38;5;241m=\u001b[39m \u001b[38;5;28;01myield from\u001b[39;00m \u001b[38;5;28mself\u001b[39m\u001b[38;5;241m.\u001b[39mthymio\u001b[38;5;241m.\u001b[39msend_msg_and_get_result(\n\u001b[0;32m     47\u001b[0m         \u001b[38;5;28;01mlambda\u001b[39;00m notify:\n\u001b[0;32m     48\u001b[0m             \u001b[38;5;28mself\u001b[39m\u001b[38;5;241m.\u001b[39msend_unlock_node(request_id_notify\u001b[38;5;241m=\u001b[39mnotify)\n\u001b[0;32m     49\u001b[0m     )\n\u001b[0;32m     50\u001b[0m     \u001b[38;5;28;01mreturn\u001b[39;00m result\n",
      "File \u001b[1;32md:\\jiwon\\anaconda3\\envs\\lr24\\Lib\\site-packages\\tdmclient\\clientasync.py:173\u001b[0m, in \u001b[0;36mClientAsync.send_msg_and_get_result\u001b[1;34m(self, send_fun)\u001b[0m\n\u001b[0;32m    170\u001b[0m     result \u001b[38;5;241m=\u001b[39m r\n\u001b[0;32m    171\u001b[0m     done \u001b[38;5;241m=\u001b[39m \u001b[38;5;28;01mTrue\u001b[39;00m\n\u001b[1;32m--> 173\u001b[0m send_fun(notify)\n\u001b[0;32m    174\u001b[0m \u001b[38;5;28;01mwhile\u001b[39;00m \u001b[38;5;129;01mnot\u001b[39;00m done:\n\u001b[0;32m    175\u001b[0m     \u001b[38;5;28;01myield\u001b[39;00m\n",
      "File \u001b[1;32md:\\jiwon\\anaconda3\\envs\\lr24\\Lib\\site-packages\\tdmclient\\clientasyncnode.py:48\u001b[0m, in \u001b[0;36mClientAsyncNode.unlock.<locals>.<lambda>\u001b[1;34m(notify)\u001b[0m\n\u001b[0;32m     44\u001b[0m \u001b[38;5;129m@types\u001b[39m\u001b[38;5;241m.\u001b[39mcoroutine\n\u001b[0;32m     45\u001b[0m \u001b[38;5;28;01mdef\u001b[39;00m \u001b[38;5;21munlock\u001b[39m(\u001b[38;5;28mself\u001b[39m):\n\u001b[0;32m     46\u001b[0m     result \u001b[38;5;241m=\u001b[39m \u001b[38;5;28;01myield from\u001b[39;00m \u001b[38;5;28mself\u001b[39m\u001b[38;5;241m.\u001b[39mthymio\u001b[38;5;241m.\u001b[39msend_msg_and_get_result(\n\u001b[0;32m     47\u001b[0m         \u001b[38;5;28;01mlambda\u001b[39;00m notify:\n\u001b[1;32m---> 48\u001b[0m             \u001b[38;5;28mself\u001b[39m\u001b[38;5;241m.\u001b[39msend_unlock_node(request_id_notify\u001b[38;5;241m=\u001b[39mnotify)\n\u001b[0;32m     49\u001b[0m     )\n\u001b[0;32m     50\u001b[0m     \u001b[38;5;28;01mreturn\u001b[39;00m result\n",
      "File \u001b[1;32md:\\jiwon\\anaconda3\\envs\\lr24\\Lib\\site-packages\\tdmclient\\clientnode.py:30\u001b[0m, in \u001b[0;36mClientNode.send_unlock_node\u001b[1;34m(self, ignore_disconnected_error, **kwargs)\u001b[0m\n\u001b[0;32m     28\u001b[0m \u001b[38;5;28;01mif\u001b[39;00m \u001b[38;5;28mself\u001b[39m\u001b[38;5;241m.\u001b[39mthymio\u001b[38;5;241m.\u001b[39mdebug \u001b[38;5;241m>\u001b[39m\u001b[38;5;241m=\u001b[39m \u001b[38;5;241m1\u001b[39m:\n\u001b[0;32m     29\u001b[0m     \u001b[38;5;28mprint\u001b[39m(\u001b[38;5;124mf\u001b[39m\u001b[38;5;124m\"\u001b[39m\u001b[38;5;124msend unlock node \u001b[39m\u001b[38;5;132;01m{\u001b[39;00m\u001b[38;5;28mself\u001b[39m\u001b[38;5;241m.\u001b[39mid_str\u001b[38;5;132;01m}\u001b[39;00m\u001b[38;5;124m\"\u001b[39m)\n\u001b[1;32m---> 30\u001b[0m \u001b[38;5;28mself\u001b[39m\u001b[38;5;241m.\u001b[39mthymio\u001b[38;5;241m.\u001b[39msend_packet(\u001b[38;5;28mself\u001b[39m\u001b[38;5;241m.\u001b[39mcreate_msg_unlock_node(\u001b[38;5;241m*\u001b[39m\u001b[38;5;241m*\u001b[39mkwargs),\n\u001b[0;32m     31\u001b[0m                         ignore_disconnected_error\u001b[38;5;241m=\u001b[39mignore_disconnected_error)\n",
      "File \u001b[1;32md:\\jiwon\\anaconda3\\envs\\lr24\\Lib\\site-packages\\tdmclient\\client.py:142\u001b[0m, in \u001b[0;36mClient.send_packet\u001b[1;34m(self, b, ignore_disconnected_error)\u001b[0m\n\u001b[0;32m    139\u001b[0m         \u001b[38;5;28;01mraise\u001b[39;00m DisconnectedError(\u001b[38;5;124m\"\u001b[39m\u001b[38;5;124mTDM disconnected\u001b[39m\u001b[38;5;124m\"\u001b[39m)\n\u001b[0;32m    141\u001b[0m \u001b[38;5;28;01mtry\u001b[39;00m:\n\u001b[1;32m--> 142\u001b[0m     \u001b[38;5;28mself\u001b[39m\u001b[38;5;241m.\u001b[39mtdm\u001b[38;5;241m.\u001b[39msend_packet(b)\n\u001b[0;32m    143\u001b[0m \u001b[38;5;28;01mexcept\u001b[39;00m \u001b[38;5;167;01mSyntaxError\u001b[39;00m \u001b[38;5;28;01mas\u001b[39;00m error:\n\u001b[0;32m    144\u001b[0m     \u001b[38;5;28;01mif\u001b[39;00m \u001b[38;5;129;01mnot\u001b[39;00m ignore_disconnected_error:\n",
      "File \u001b[1;32md:\\jiwon\\anaconda3\\envs\\lr24\\Lib\\site-packages\\tdmclient\\tcp.py:169\u001b[0m, in \u001b[0;36mTDMConnection.send_packet\u001b[1;34m(self, packet)\u001b[0m\n\u001b[0;32m    167\u001b[0m \u001b[38;5;28;01mif\u001b[39;00m \u001b[38;5;28mself\u001b[39m\u001b[38;5;241m.\u001b[39mon_comm_error \u001b[38;5;129;01mis\u001b[39;00m \u001b[38;5;129;01mnot\u001b[39;00m \u001b[38;5;28;01mNone\u001b[39;00m:\n\u001b[0;32m    168\u001b[0m     \u001b[38;5;28mself\u001b[39m\u001b[38;5;241m.\u001b[39mon_comm_error(\u001b[38;5;124m\"\u001b[39m\u001b[38;5;124mwrite: \u001b[39m\u001b[38;5;124m\"\u001b[39m \u001b[38;5;241m+\u001b[39m \u001b[38;5;28mstr\u001b[39m(error))\n\u001b[1;32m--> 169\u001b[0m \u001b[38;5;28;01mraise\u001b[39;00m error\n",
      "File \u001b[1;32md:\\jiwon\\anaconda3\\envs\\lr24\\Lib\\site-packages\\tdmclient\\tcp.py:164\u001b[0m, in \u001b[0;36mTDMConnection.send_packet\u001b[1;34m(self, packet)\u001b[0m\n\u001b[0;32m    162\u001b[0m     n \u001b[38;5;241m=\u001b[39m \u001b[38;5;28mlen\u001b[39m(packet)\n\u001b[0;32m    163\u001b[0m     blen \u001b[38;5;241m=\u001b[39m \u001b[38;5;28mbytes\u001b[39m([(n \u001b[38;5;241m>>\u001b[39m \u001b[38;5;241m8\u001b[39m \u001b[38;5;241m*\u001b[39m i) \u001b[38;5;241m&\u001b[39m \u001b[38;5;241m0xff\u001b[39m \u001b[38;5;28;01mfor\u001b[39;00m i \u001b[38;5;129;01min\u001b[39;00m \u001b[38;5;28mrange\u001b[39m(\u001b[38;5;241m4\u001b[39m)])\n\u001b[1;32m--> 164\u001b[0m     \u001b[38;5;28mself\u001b[39m\u001b[38;5;241m.\u001b[39mio\u001b[38;5;241m.\u001b[39mwrite(blen \u001b[38;5;241m+\u001b[39m packet)\n\u001b[0;32m    165\u001b[0m \u001b[38;5;28;01mexcept\u001b[39;00m \u001b[38;5;167;01mException\u001b[39;00m \u001b[38;5;28;01mas\u001b[39;00m error:\n\u001b[0;32m    166\u001b[0m     \u001b[38;5;28mself\u001b[39m\u001b[38;5;241m.\u001b[39mcomm_error \u001b[38;5;241m=\u001b[39m error\n",
      "File \u001b[1;32md:\\jiwon\\anaconda3\\envs\\lr24\\Lib\\site-packages\\tdmclient\\tcp.py:102\u001b[0m, in \u001b[0;36mTDMConnection.__init__.<locals>.TCPClientIO.write\u001b[1;34m(self, b)\u001b[0m\n\u001b[0;32m    101\u001b[0m \u001b[38;5;28;01mdef\u001b[39;00m \u001b[38;5;21mwrite\u001b[39m(\u001b[38;5;28mself\u001b[39m, b):\n\u001b[1;32m--> 102\u001b[0m     \u001b[38;5;28mself\u001b[39m\u001b[38;5;241m.\u001b[39msocket\u001b[38;5;241m.\u001b[39msendall(b)\n",
      "\u001b[1;31mConnectionResetError\u001b[0m: [WinError 10054] An existing connection was forcibly closed by the remote host"
     ]
    }
   ],
   "source": [
    "await node.unlock()"
   ]
  }
 ],
 "metadata": {
  "kernelspec": {
   "display_name": "lr24",
   "language": "python",
   "name": "python3"
  },
  "language_info": {
   "codemirror_mode": {
    "name": "ipython",
    "version": 3
   },
   "file_extension": ".py",
   "mimetype": "text/x-python",
   "name": "python",
   "nbconvert_exporter": "python",
   "pygments_lexer": "ipython3",
   "version": "3.12.3"
  }
 },
 "nbformat": 4,
 "nbformat_minor": 2
}
